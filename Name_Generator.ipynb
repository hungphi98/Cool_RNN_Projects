{
 "cells": [
  {
   "cell_type": "code",
   "execution_count": 68,
   "metadata": {},
   "outputs": [],
   "source": [
    "import numpy as np\n",
    "import random\n",
    "import pandas as pd"
   ]
  },
  {
   "cell_type": "code",
   "execution_count": 69,
   "metadata": {},
   "outputs": [
    {
     "data": {
      "text/html": [
       "<div>\n",
       "<style scoped>\n",
       "    .dataframe tbody tr th:only-of-type {\n",
       "        vertical-align: middle;\n",
       "    }\n",
       "\n",
       "    .dataframe tbody tr th {\n",
       "        vertical-align: top;\n",
       "    }\n",
       "\n",
       "    .dataframe thead th {\n",
       "        text-align: right;\n",
       "    }\n",
       "</style>\n",
       "<table border=\"1\" class=\"dataframe\">\n",
       "  <thead>\n",
       "    <tr style=\"text-align: right;\">\n",
       "      <th></th>\n",
       "      <th>Id</th>\n",
       "      <th>Name</th>\n",
       "      <th>Year</th>\n",
       "      <th>Gender</th>\n",
       "      <th>Count</th>\n",
       "    </tr>\n",
       "  </thead>\n",
       "  <tbody>\n",
       "    <tr>\n",
       "      <th>0</th>\n",
       "      <td>1</td>\n",
       "      <td>Mary</td>\n",
       "      <td>1880</td>\n",
       "      <td>F</td>\n",
       "      <td>7065</td>\n",
       "    </tr>\n",
       "    <tr>\n",
       "      <th>1</th>\n",
       "      <td>2</td>\n",
       "      <td>Anna</td>\n",
       "      <td>1880</td>\n",
       "      <td>F</td>\n",
       "      <td>2604</td>\n",
       "    </tr>\n",
       "    <tr>\n",
       "      <th>2</th>\n",
       "      <td>3</td>\n",
       "      <td>Emma</td>\n",
       "      <td>1880</td>\n",
       "      <td>F</td>\n",
       "      <td>2003</td>\n",
       "    </tr>\n",
       "    <tr>\n",
       "      <th>3</th>\n",
       "      <td>4</td>\n",
       "      <td>Elizabeth</td>\n",
       "      <td>1880</td>\n",
       "      <td>F</td>\n",
       "      <td>1939</td>\n",
       "    </tr>\n",
       "    <tr>\n",
       "      <th>4</th>\n",
       "      <td>5</td>\n",
       "      <td>Minnie</td>\n",
       "      <td>1880</td>\n",
       "      <td>F</td>\n",
       "      <td>1746</td>\n",
       "    </tr>\n",
       "  </tbody>\n",
       "</table>\n",
       "</div>"
      ],
      "text/plain": [
       "   Id       Name  Year Gender  Count\n",
       "0   1       Mary  1880      F   7065\n",
       "1   2       Anna  1880      F   2604\n",
       "2   3       Emma  1880      F   2003\n",
       "3   4  Elizabeth  1880      F   1939\n",
       "4   5     Minnie  1880      F   1746"
      ]
     },
     "execution_count": 69,
     "metadata": {},
     "output_type": "execute_result"
    }
   ],
   "source": [
    "data = pd.read_csv(\"datasets/NationalNames.csv\")\n",
    "data.drop(['Id','Year','Count'], axis = 1)\n",
    "data.head()"
   ]
  },
  {
   "cell_type": "code",
   "execution_count": 70,
   "metadata": {},
   "outputs": [
    {
     "data": {
      "text/plain": [
       "942       John\n",
       "943    William\n",
       "944      James\n",
       "945    Charles\n",
       "946     George\n",
       "Name: Name, dtype: object"
      ]
     },
     "execution_count": 70,
     "metadata": {},
     "output_type": "execute_result"
    }
   ],
   "source": [
    "male = data.loc[data['Gender'] == 'M']['Name']\n",
    "female = data.loc[data['Gender'] == 'F']['Name']\n",
    "male.head()"
   ]
  },
  {
   "cell_type": "code",
   "execution_count": 71,
   "metadata": {},
   "outputs": [
    {
     "name": "stdout",
     "output_type": "stream",
     "text": [
      "Data size 200\n",
      "Unique characters: 27\n"
     ]
    }
   ],
   "source": [
    "female = list(female)\n",
    "np.random.shuffle(female)\n",
    "for i in range(len(female)):\n",
    "    female[i] = female[i] + '\\n'\n",
    "female = [m.lower() for m in female]\n",
    "female = female[:200]\n",
    "data_size = len(female)\n",
    "chars = set(''.join(female))\n",
    "char_size = len(chars)\n",
    "print(\"Data size {}\\nUnique characters: {}\".format(data_size, char_size))\n",
    "m = len(female)\n",
    "max_len = 30"
   ]
  },
  {
   "cell_type": "code",
   "execution_count": 72,
   "metadata": {},
   "outputs": [],
   "source": [
    "char_to_ix = {ch:i for i,ch in enumerate(sorted(chars))}\n",
    "ix_to_char = {i:ch for i,ch in enumerate(sorted(chars))}"
   ]
  },
  {
   "cell_type": "code",
   "execution_count": 73,
   "metadata": {},
   "outputs": [],
   "source": [
    "import keras\n",
    "from keras.models import Model, Sequential\n",
    "from keras.layers import Input, Dense, Reshape, Lambda\n",
    "from keras.layers import LSTM\n",
    "from numpy import array\n",
    "from keras.optimizers import Adam"
   ]
  },
  {
   "cell_type": "code",
   "execution_count": 74,
   "metadata": {},
   "outputs": [
    {
     "name": "stdout",
     "output_type": "stream",
     "text": [
      "(200, 30, 27)\n",
      "(30, 200, 27)\n"
     ]
    }
   ],
   "source": [
    "X = []\n",
    "Y = []\n",
    "for i in range(m):\n",
    "    x = [char_to_ix[ch] for ch in female[i]]\n",
    "    x.extend([0] * (max_len - len(x)))\n",
    "    \n",
    "    y = x[1:] + [char_to_ix[\"\\n\"]]\n",
    "    X.append(x)\n",
    "    Y.append(y)\n",
    "\n",
    "X = keras.utils.to_categorical(X, num_classes = char_size, dtype = 'float32')\n",
    "Y = keras.utils.to_categorical(Y, num_classes = char_size, dtype = 'float32')\n",
    "Y = np.swapaxes(Y,0,1)\n",
    "\n",
    "print(X.shape)\n",
    "print(Y.shape)"
   ]
  },
  {
   "cell_type": "code",
   "execution_count": 75,
   "metadata": {},
   "outputs": [],
   "source": [
    "n_a = 128\n",
    "Tx = 30\n",
    "reshapor = Reshape((1, char_size))\n",
    "LSTM_cell = LSTM(n_a, return_state = True)\n",
    "densor = Dense(char_size, activation = 'softmax')"
   ]
  },
  {
   "cell_type": "code",
   "execution_count": 76,
   "metadata": {},
   "outputs": [],
   "source": [
    "def train_model(Tx, n_a, char_size):\n",
    "    X = Input(shape = (Tx, char_size))\n",
    "    a0 = Input(shape = (n_a,))\n",
    "    c0 = Input(shape = (n_a,))\n",
    "    \n",
    "    a = a0\n",
    "    c = c0\n",
    "    \n",
    "    outputs = []\n",
    "    for t in range(Tx):\n",
    "        x = Lambda(lambda x: X[:,t,:])(X)\n",
    "        x = reshapor(x)\n",
    "        a, _, c = LSTM_cell(x, initial_state = [a,c])\n",
    "        out = densor(a)\n",
    "        outputs.append(out)\n",
    "    model = Model([X, a0, c0], outputs)\n",
    "    return model"
   ]
  },
  {
   "cell_type": "code",
   "execution_count": 77,
   "metadata": {},
   "outputs": [],
   "source": [
    "model = train_model(Tx, n_a, char_size)"
   ]
  },
  {
   "cell_type": "code",
   "execution_count": 78,
   "metadata": {},
   "outputs": [],
   "source": [
    "a0 = np.zeros((X.shape[0], n_a))\n",
    "c0 = np.zeros((X.shape[0], n_a))\n",
    "output = model.predict([X, a0, c0])"
   ]
  },
  {
   "cell_type": "code",
   "execution_count": 79,
   "metadata": {},
   "outputs": [
    {
     "name": "stdout",
     "output_type": "stream",
     "text": [
      "(30, 200, 27)\n"
     ]
    }
   ],
   "source": [
    "print(np.array(output).shape)"
   ]
  },
  {
   "cell_type": "code",
   "execution_count": 80,
   "metadata": {},
   "outputs": [],
   "source": [
    "opt = Adam(lr=0.01, beta_1=0.9, beta_2=0.999, decay=0.01)\n",
    "model.compile(optimizer=opt, loss='categorical_crossentropy', metrics=['accuracy'])"
   ]
  },
  {
   "cell_type": "code",
   "execution_count": 81,
   "metadata": {},
   "outputs": [
    {
     "name": "stdout",
     "output_type": "stream",
     "text": [
      "Epoch 1/100\n",
      "200/200 [==============================] - 32s 159ms/step - loss: 44.9082 - dense_2_loss: 0.8761 - dense_2_acc: 0.0050 - dense_2_acc_1: 0.0100 - dense_2_acc_2: 0.0200 - dense_2_acc_3: 0.0950 - dense_2_acc_4: 0.2700 - dense_2_acc_5: 0.5050 - dense_2_acc_6: 0.6850 - dense_2_acc_7: 0.7900 - dense_2_acc_8: 0.8150 - dense_2_acc_9: 0.8250 - dense_2_acc_10: 0.8350 - dense_2_acc_11: 0.8350 - dense_2_acc_12: 0.8350 - dense_2_acc_13: 0.8350 - dense_2_acc_14: 0.8400 - dense_2_acc_15: 0.8400 - dense_2_acc_16: 0.8400 - dense_2_acc_17: 0.8400 - dense_2_acc_18: 0.8400 - dense_2_acc_19: 0.8400 - dense_2_acc_20: 0.8400 - dense_2_acc_21: 0.8400 - dense_2_acc_22: 0.8400 - dense_2_acc_23: 0.8400 - dense_2_acc_24: 0.8400 - dense_2_acc_25: 0.8400 - dense_2_acc_26: 0.8400 - dense_2_acc_27: 0.8400 - dense_2_acc_28: 0.8400 - dense_2_acc_29: 0.8400                                                                                                        \n",
      "Epoch 2/100\n",
      "200/200 [==============================] - 0s 2ms/step - loss: 22.0970 - dense_2_loss: 0.0216 - dense_2_acc: 0.0200 - dense_2_acc_1: 0.0150 - dense_2_acc_2: 0.0250 - dense_2_acc_3: 0.0850 - dense_2_acc_4: 0.3350 - dense_2_acc_5: 0.6050 - dense_2_acc_6: 0.7950 - dense_2_acc_7: 0.9450 - dense_2_acc_8: 0.9750 - dense_2_acc_9: 0.9850 - dense_2_acc_10: 0.9950 - dense_2_acc_11: 0.9950 - dense_2_acc_12: 0.9950 - dense_2_acc_13: 0.9950 - dense_2_acc_14: 1.0000 - dense_2_acc_15: 1.0000 - dense_2_acc_16: 1.0000 - dense_2_acc_17: 1.0000 - dense_2_acc_18: 1.0000 - dense_2_acc_19: 1.0000 - dense_2_acc_20: 1.0000 - dense_2_acc_21: 1.0000 - dense_2_acc_22: 1.0000 - dense_2_acc_23: 1.0000 - dense_2_acc_24: 1.0000 - dense_2_acc_25: 1.0000 - dense_2_acc_26: 1.0000 - dense_2_acc_27: 1.0000 - dense_2_acc_28: 1.0000 - dense_2_acc_29: 1.0000   \n",
      "Epoch 3/100\n",
      "200/200 [==============================] - 0s 2ms/step - loss: 18.0175 - dense_2_loss: 0.0238 - dense_2_acc: 0.2050 - dense_2_acc_1: 0.0500 - dense_2_acc_2: 0.0250 - dense_2_acc_3: 0.0850 - dense_2_acc_4: 0.3350 - dense_2_acc_5: 0.6050 - dense_2_acc_6: 0.7950 - dense_2_acc_7: 0.9450 - dense_2_acc_8: 0.9750 - dense_2_acc_9: 0.9850 - dense_2_acc_10: 0.9950 - dense_2_acc_11: 0.9950 - dense_2_acc_12: 0.9950 - dense_2_acc_13: 0.9950 - dense_2_acc_14: 1.0000 - dense_2_acc_15: 1.0000 - dense_2_acc_16: 1.0000 - dense_2_acc_17: 1.0000 - dense_2_acc_18: 1.0000 - dense_2_acc_19: 1.0000 - dense_2_acc_20: 1.0000 - dense_2_acc_21: 1.0000 - dense_2_acc_22: 1.0000 - dense_2_acc_23: 1.0000 - dense_2_acc_24: 1.0000 - dense_2_acc_25: 1.0000 - dense_2_acc_26: 1.0000 - dense_2_acc_27: 1.0000 - dense_2_acc_28: 1.0000 - dense_2_acc_29: 1.0000\n",
      "Epoch 4/100\n",
      "200/200 [==============================] - 0s 2ms/step - loss: 17.3215 - dense_2_loss: 0.0013 - dense_2_acc: 0.2550 - dense_2_acc_1: 0.1100 - dense_2_acc_2: 0.0450 - dense_2_acc_3: 0.1200 - dense_2_acc_4: 0.3550 - dense_2_acc_5: 0.6100 - dense_2_acc_6: 0.7950 - dense_2_acc_7: 0.9450 - dense_2_acc_8: 0.9750 - dense_2_acc_9: 0.9850 - dense_2_acc_10: 0.9950 - dense_2_acc_11: 0.9950 - dense_2_acc_12: 0.9950 - dense_2_acc_13: 0.9950 - dense_2_acc_14: 1.0000 - dense_2_acc_15: 1.0000 - dense_2_acc_16: 1.0000 - dense_2_acc_17: 1.0000 - dense_2_acc_18: 1.0000 - dense_2_acc_19: 1.0000 - dense_2_acc_20: 1.0000 - dense_2_acc_21: 1.0000 - dense_2_acc_22: 1.0000 - dense_2_acc_23: 1.0000 - dense_2_acc_24: 1.0000 - dense_2_acc_25: 1.0000 - dense_2_acc_26: 1.0000 - dense_2_acc_27: 1.0000 - dense_2_acc_28: 1.0000 - dense_2_acc_29: 1.0000\n",
      "Epoch 5/100\n",
      "200/200 [==============================] - 0s 2ms/step - loss: 16.8533 - dense_2_loss: 9.5071e-04 - dense_2_acc: 0.2550 - dense_2_acc_1: 0.1150 - dense_2_acc_2: 0.0850 - dense_2_acc_3: 0.1250 - dense_2_acc_4: 0.3400 - dense_2_acc_5: 0.6050 - dense_2_acc_6: 0.7950 - dense_2_acc_7: 0.9450 - dense_2_acc_8: 0.9750 - dense_2_acc_9: 0.9850 - dense_2_acc_10: 0.9950 - dense_2_acc_11: 0.9950 - dense_2_acc_12: 0.9950 - dense_2_acc_13: 0.9950 - dense_2_acc_14: 1.0000 - dense_2_acc_15: 1.0000 - dense_2_acc_16: 1.0000 - dense_2_acc_17: 1.0000 - dense_2_acc_18: 1.0000 - dense_2_acc_19: 1.0000 - dense_2_acc_20: 1.0000 - dense_2_acc_21: 1.0000 - dense_2_acc_22: 1.0000 - dense_2_acc_23: 1.0000 - dense_2_acc_24: 1.0000 - dense_2_acc_25: 1.0000 - dense_2_acc_26: 1.0000 - dense_2_acc_27: 1.0000 - dense_2_acc_28: 1.0000 - dense_2_acc_29: 1.0000\n",
      "Epoch 6/100\n",
      "200/200 [==============================] - 0s 2ms/step - loss: 16.4924 - dense_2_loss: 9.9957e-04 - dense_2_acc: 0.2400 - dense_2_acc_1: 0.1200 - dense_2_acc_2: 0.1050 - dense_2_acc_3: 0.1700 - dense_2_acc_4: 0.3500 - dense_2_acc_5: 0.6050 - dense_2_acc_6: 0.7950 - dense_2_acc_7: 0.9450 - dense_2_acc_8: 0.9750 - dense_2_acc_9: 0.9850 - dense_2_acc_10: 0.9950 - dense_2_acc_11: 0.9950 - dense_2_acc_12: 0.9950 - dense_2_acc_13: 0.9950 - dense_2_acc_14: 1.0000 - dense_2_acc_15: 1.0000 - dense_2_acc_16: 1.0000 - dense_2_acc_17: 1.0000 - dense_2_acc_18: 1.0000 - dense_2_acc_19: 1.0000 - dense_2_acc_20: 1.0000 - dense_2_acc_21: 1.0000 - dense_2_acc_22: 1.0000 - dense_2_acc_23: 1.0000 - dense_2_acc_24: 1.0000 - dense_2_acc_25: 1.0000 - dense_2_acc_26: 1.0000 - dense_2_acc_27: 1.0000 - dense_2_acc_28: 1.0000 - dense_2_acc_29: 1.0000\n",
      "Epoch 7/100\n",
      "200/200 [==============================] - 0s 2ms/step - loss: 16.3000 - dense_2_loss: 8.5128e-04 - dense_2_acc: 0.2450 - dense_2_acc_1: 0.1350 - dense_2_acc_2: 0.1500 - dense_2_acc_3: 0.2200 - dense_2_acc_4: 0.3350 - dense_2_acc_5: 0.6150 - dense_2_acc_6: 0.7950 - dense_2_acc_7: 0.9450 - dense_2_acc_8: 0.9750 - dense_2_acc_9: 0.9850 - dense_2_acc_10: 0.9950 - dense_2_acc_11: 0.9950 - dense_2_acc_12: 0.9950 - dense_2_acc_13: 0.9950 - dense_2_acc_14: 1.0000 - dense_2_acc_15: 1.0000 - dense_2_acc_16: 1.0000 - dense_2_acc_17: 1.0000 - dense_2_acc_18: 1.0000 - dense_2_acc_19: 1.0000 - dense_2_acc_20: 1.0000 - dense_2_acc_21: 1.0000 - dense_2_acc_22: 1.0000 - dense_2_acc_23: 1.0000 - dense_2_acc_24: 1.0000 - dense_2_acc_25: 1.0000 - dense_2_acc_26: 1.0000 - dense_2_acc_27: 1.0000 - dense_2_acc_28: 1.0000 - dense_2_acc_29: 1.0000\n",
      "Epoch 8/100\n",
      "200/200 [==============================] - 0s 2ms/step - loss: 16.1441 - dense_2_loss: 6.7222e-04 - dense_2_acc: 0.2800 - dense_2_acc_1: 0.1400 - dense_2_acc_2: 0.1250 - dense_2_acc_3: 0.2200 - dense_2_acc_4: 0.3650 - dense_2_acc_5: 0.6050 - dense_2_acc_6: 0.7950 - dense_2_acc_7: 0.9450 - dense_2_acc_8: 0.9750 - dense_2_acc_9: 0.9850 - dense_2_acc_10: 0.9950 - dense_2_acc_11: 0.9950 - dense_2_acc_12: 0.9950 - dense_2_acc_13: 0.9950 - dense_2_acc_14: 1.0000 - dense_2_acc_15: 1.0000 - dense_2_acc_16: 1.0000 - dense_2_acc_17: 1.0000 - dense_2_acc_18: 1.0000 - dense_2_acc_19: 1.0000 - dense_2_acc_20: 1.0000 - dense_2_acc_21: 1.0000 - dense_2_acc_22: 1.0000 - dense_2_acc_23: 1.0000 - dense_2_acc_24: 1.0000 - dense_2_acc_25: 1.0000 - dense_2_acc_26: 1.0000 - dense_2_acc_27: 1.0000 - dense_2_acc_28: 1.0000 - dense_2_acc_29: 1.0000\n",
      "Epoch 9/100\n",
      "200/200 [==============================] - 0s 2ms/step - loss: 15.9553 - dense_2_loss: 5.6031e-04 - dense_2_acc: 0.2800 - dense_2_acc_1: 0.1450 - dense_2_acc_2: 0.1750 - dense_2_acc_3: 0.2700 - dense_2_acc_4: 0.3700 - dense_2_acc_5: 0.6050 - dense_2_acc_6: 0.7900 - dense_2_acc_7: 0.9450 - dense_2_acc_8: 0.9750 - dense_2_acc_9: 0.9850 - dense_2_acc_10: 0.9950 - dense_2_acc_11: 0.9950 - dense_2_acc_12: 0.9950 - dense_2_acc_13: 0.9950 - dense_2_acc_14: 1.0000 - dense_2_acc_15: 1.0000 - dense_2_acc_16: 1.0000 - dense_2_acc_17: 1.0000 - dense_2_acc_18: 1.0000 - dense_2_acc_19: 1.0000 - dense_2_acc_20: 1.0000 - dense_2_acc_21: 1.0000 - dense_2_acc_22: 1.0000 - dense_2_acc_23: 1.0000 - dense_2_acc_24: 1.0000 - dense_2_acc_25: 1.0000 - dense_2_acc_26: 1.0000 - dense_2_acc_27: 1.0000 - dense_2_acc_28: 1.0000 - dense_2_acc_29: 1.0000\n",
      "Epoch 10/100\n"
     ]
    },
    {
     "name": "stdout",
     "output_type": "stream",
     "text": [
      "200/200 [==============================] - 0s 2ms/step - loss: 16.0057 - dense_2_loss: 7.2066e-04 - dense_2_acc: 0.2650 - dense_2_acc_1: 0.1200 - dense_2_acc_2: 0.1700 - dense_2_acc_3: 0.2350 - dense_2_acc_4: 0.3450 - dense_2_acc_5: 0.6000 - dense_2_acc_6: 0.8000 - dense_2_acc_7: 0.9450 - dense_2_acc_8: 0.9750 - dense_2_acc_9: 0.9850 - dense_2_acc_10: 0.9950 - dense_2_acc_11: 0.9950 - dense_2_acc_12: 0.9950 - dense_2_acc_13: 0.9950 - dense_2_acc_14: 1.0000 - dense_2_acc_15: 1.0000 - dense_2_acc_16: 1.0000 - dense_2_acc_17: 1.0000 - dense_2_acc_18: 1.0000 - dense_2_acc_19: 1.0000 - dense_2_acc_20: 1.0000 - dense_2_acc_21: 1.0000 - dense_2_acc_22: 1.0000 - dense_2_acc_23: 1.0000 - dense_2_acc_24: 1.0000 - dense_2_acc_25: 1.0000 - dense_2_acc_26: 1.0000 - dense_2_acc_27: 1.0000 - dense_2_acc_28: 1.0000 - dense_2_acc_29: 1.0000\n",
      "Epoch 11/100\n",
      "200/200 [==============================] - 0s 2ms/step - loss: 15.9508 - dense_2_loss: 5.0554e-04 - dense_2_acc: 0.2650 - dense_2_acc_1: 0.1250 - dense_2_acc_2: 0.1700 - dense_2_acc_3: 0.1650 - dense_2_acc_4: 0.3400 - dense_2_acc_5: 0.6050 - dense_2_acc_6: 0.7950 - dense_2_acc_7: 0.9450 - dense_2_acc_8: 0.9750 - dense_2_acc_9: 0.9850 - dense_2_acc_10: 0.9950 - dense_2_acc_11: 0.9950 - dense_2_acc_12: 0.9950 - dense_2_acc_13: 0.9950 - dense_2_acc_14: 1.0000 - dense_2_acc_15: 1.0000 - dense_2_acc_16: 1.0000 - dense_2_acc_17: 1.0000 - dense_2_acc_18: 1.0000 - dense_2_acc_19: 1.0000 - dense_2_acc_20: 1.0000 - dense_2_acc_21: 1.0000 - dense_2_acc_22: 1.0000 - dense_2_acc_23: 1.0000 - dense_2_acc_24: 1.0000 - dense_2_acc_25: 1.0000 - dense_2_acc_26: 1.0000 - dense_2_acc_27: 1.0000 - dense_2_acc_28: 1.0000 - dense_2_acc_29: 1.0000\n",
      "Epoch 12/100\n",
      "200/200 [==============================] - 0s 2ms/step - loss: 15.7775 - dense_2_loss: 5.8790e-04 - dense_2_acc: 0.2650 - dense_2_acc_1: 0.1400 - dense_2_acc_2: 0.1800 - dense_2_acc_3: 0.2600 - dense_2_acc_4: 0.3600 - dense_2_acc_5: 0.6100 - dense_2_acc_6: 0.7900 - dense_2_acc_7: 0.9400 - dense_2_acc_8: 0.9750 - dense_2_acc_9: 0.9800 - dense_2_acc_10: 0.9950 - dense_2_acc_11: 0.9950 - dense_2_acc_12: 0.9950 - dense_2_acc_13: 0.9950 - dense_2_acc_14: 1.0000 - dense_2_acc_15: 1.0000 - dense_2_acc_16: 1.0000 - dense_2_acc_17: 1.0000 - dense_2_acc_18: 1.0000 - dense_2_acc_19: 1.0000 - dense_2_acc_20: 1.0000 - dense_2_acc_21: 1.0000 - dense_2_acc_22: 1.0000 - dense_2_acc_23: 1.0000 - dense_2_acc_24: 1.0000 - dense_2_acc_25: 1.0000 - dense_2_acc_26: 1.0000 - dense_2_acc_27: 1.0000 - dense_2_acc_28: 1.0000 - dense_2_acc_29: 1.0000\n",
      "Epoch 13/100\n",
      "200/200 [==============================] - 0s 2ms/step - loss: 15.5066 - dense_2_loss: 5.7305e-04 - dense_2_acc: 0.2650 - dense_2_acc_1: 0.1600 - dense_2_acc_2: 0.1850 - dense_2_acc_3: 0.2600 - dense_2_acc_4: 0.3800 - dense_2_acc_5: 0.6250 - dense_2_acc_6: 0.7950 - dense_2_acc_7: 0.9450 - dense_2_acc_8: 0.9750 - dense_2_acc_9: 0.9850 - dense_2_acc_10: 0.9950 - dense_2_acc_11: 0.9950 - dense_2_acc_12: 0.9950 - dense_2_acc_13: 0.9950 - dense_2_acc_14: 1.0000 - dense_2_acc_15: 1.0000 - dense_2_acc_16: 1.0000 - dense_2_acc_17: 1.0000 - dense_2_acc_18: 1.0000 - dense_2_acc_19: 1.0000 - dense_2_acc_20: 1.0000 - dense_2_acc_21: 1.0000 - dense_2_acc_22: 1.0000 - dense_2_acc_23: 1.0000 - dense_2_acc_24: 1.0000 - dense_2_acc_25: 1.0000 - dense_2_acc_26: 1.0000 - dense_2_acc_27: 1.0000 - dense_2_acc_28: 1.0000 - dense_2_acc_29: 1.0000\n",
      "Epoch 14/100\n",
      "200/200 [==============================] - 0s 2ms/step - loss: 15.3176 - dense_2_loss: 4.7212e-04 - dense_2_acc: 0.2650 - dense_2_acc_1: 0.1650 - dense_2_acc_2: 0.1850 - dense_2_acc_3: 0.2650 - dense_2_acc_4: 0.3900 - dense_2_acc_5: 0.6050 - dense_2_acc_6: 0.7950 - dense_2_acc_7: 0.9450 - dense_2_acc_8: 0.9750 - dense_2_acc_9: 0.9850 - dense_2_acc_10: 0.9950 - dense_2_acc_11: 0.9950 - dense_2_acc_12: 0.9950 - dense_2_acc_13: 0.9950 - dense_2_acc_14: 1.0000 - dense_2_acc_15: 1.0000 - dense_2_acc_16: 1.0000 - dense_2_acc_17: 1.0000 - dense_2_acc_18: 1.0000 - dense_2_acc_19: 1.0000 - dense_2_acc_20: 1.0000 - dense_2_acc_21: 1.0000 - dense_2_acc_22: 1.0000 - dense_2_acc_23: 1.0000 - dense_2_acc_24: 1.0000 - dense_2_acc_25: 1.0000 - dense_2_acc_26: 1.0000 - dense_2_acc_27: 1.0000 - dense_2_acc_28: 1.0000 - dense_2_acc_29: 1.0000\n",
      "Epoch 15/100\n",
      "200/200 [==============================] - 0s 2ms/step - loss: 15.0487 - dense_2_loss: 3.6959e-04 - dense_2_acc: 0.2850 - dense_2_acc_1: 0.1800 - dense_2_acc_2: 0.1900 - dense_2_acc_3: 0.2800 - dense_2_acc_4: 0.4100 - dense_2_acc_5: 0.6150 - dense_2_acc_6: 0.7950 - dense_2_acc_7: 0.9450 - dense_2_acc_8: 0.9750 - dense_2_acc_9: 0.9850 - dense_2_acc_10: 0.9950 - dense_2_acc_11: 0.9950 - dense_2_acc_12: 0.9950 - dense_2_acc_13: 0.9950 - dense_2_acc_14: 1.0000 - dense_2_acc_15: 1.0000 - dense_2_acc_16: 1.0000 - dense_2_acc_17: 1.0000 - dense_2_acc_18: 1.0000 - dense_2_acc_19: 1.0000 - dense_2_acc_20: 1.0000 - dense_2_acc_21: 1.0000 - dense_2_acc_22: 1.0000 - dense_2_acc_23: 1.0000 - dense_2_acc_24: 1.0000 - dense_2_acc_25: 1.0000 - dense_2_acc_26: 1.0000 - dense_2_acc_27: 1.0000 - dense_2_acc_28: 1.0000 - dense_2_acc_29: 1.0000\n",
      "Epoch 16/100\n",
      "200/200 [==============================] - 0s 2ms/step - loss: 14.8475 - dense_2_loss: 2.9080e-04 - dense_2_acc: 0.2850 - dense_2_acc_1: 0.1550 - dense_2_acc_2: 0.2150 - dense_2_acc_3: 0.2800 - dense_2_acc_4: 0.4400 - dense_2_acc_5: 0.6300 - dense_2_acc_6: 0.8000 - dense_2_acc_7: 0.9450 - dense_2_acc_8: 0.9750 - dense_2_acc_9: 0.9850 - dense_2_acc_10: 0.9950 - dense_2_acc_11: 0.9950 - dense_2_acc_12: 0.9950 - dense_2_acc_13: 0.9950 - dense_2_acc_14: 1.0000 - dense_2_acc_15: 1.0000 - dense_2_acc_16: 1.0000 - dense_2_acc_17: 1.0000 - dense_2_acc_18: 1.0000 - dense_2_acc_19: 1.0000 - dense_2_acc_20: 1.0000 - dense_2_acc_21: 1.0000 - dense_2_acc_22: 1.0000 - dense_2_acc_23: 1.0000 - dense_2_acc_24: 1.0000 - dense_2_acc_25: 1.0000 - dense_2_acc_26: 1.0000 - dense_2_acc_27: 1.0000 - dense_2_acc_28: 1.0000 - dense_2_acc_29: 1.0000\n",
      "Epoch 17/100\n",
      "200/200 [==============================] - 0s 2ms/step - loss: 14.5795 - dense_2_loss: 2.0919e-04 - dense_2_acc: 0.2850 - dense_2_acc_1: 0.1900 - dense_2_acc_2: 0.2300 - dense_2_acc_3: 0.2550 - dense_2_acc_4: 0.4250 - dense_2_acc_5: 0.6150 - dense_2_acc_6: 0.8000 - dense_2_acc_7: 0.9450 - dense_2_acc_8: 0.9750 - dense_2_acc_9: 0.9850 - dense_2_acc_10: 0.9950 - dense_2_acc_11: 0.9950 - dense_2_acc_12: 0.9950 - dense_2_acc_13: 0.9950 - dense_2_acc_14: 1.0000 - dense_2_acc_15: 1.0000 - dense_2_acc_16: 1.0000 - dense_2_acc_17: 1.0000 - dense_2_acc_18: 1.0000 - dense_2_acc_19: 1.0000 - dense_2_acc_20: 1.0000 - dense_2_acc_21: 1.0000 - dense_2_acc_22: 1.0000 - dense_2_acc_23: 1.0000 - dense_2_acc_24: 1.0000 - dense_2_acc_25: 1.0000 - dense_2_acc_26: 1.0000 - dense_2_acc_27: 1.0000 - dense_2_acc_28: 1.0000 - dense_2_acc_29: 1.0000\n",
      "Epoch 18/100\n",
      "200/200 [==============================] - 0s 2ms/step - loss: 14.3257 - dense_2_loss: 1.4065e-04 - dense_2_acc: 0.3050 - dense_2_acc_1: 0.1950 - dense_2_acc_2: 0.2400 - dense_2_acc_3: 0.2750 - dense_2_acc_4: 0.4200 - dense_2_acc_5: 0.6350 - dense_2_acc_6: 0.8150 - dense_2_acc_7: 0.9500 - dense_2_acc_8: 0.9750 - dense_2_acc_9: 0.9850 - dense_2_acc_10: 0.9950 - dense_2_acc_11: 0.9950 - dense_2_acc_12: 0.9950 - dense_2_acc_13: 0.9950 - dense_2_acc_14: 1.0000 - dense_2_acc_15: 1.0000 - dense_2_acc_16: 1.0000 - dense_2_acc_17: 1.0000 - dense_2_acc_18: 1.0000 - dense_2_acc_19: 1.0000 - dense_2_acc_20: 1.0000 - dense_2_acc_21: 1.0000 - dense_2_acc_22: 1.0000 - dense_2_acc_23: 1.0000 - dense_2_acc_24: 1.0000 - dense_2_acc_25: 1.0000 - dense_2_acc_26: 1.0000 - dense_2_acc_27: 1.0000 - dense_2_acc_28: 1.0000 - dense_2_acc_29: 1.0000\n",
      "Epoch 19/100\n"
     ]
    },
    {
     "name": "stdout",
     "output_type": "stream",
     "text": [
      "200/200 [==============================] - 0s 2ms/step - loss: 14.0476 - dense_2_loss: 1.0354e-04 - dense_2_acc: 0.3450 - dense_2_acc_1: 0.2350 - dense_2_acc_2: 0.2600 - dense_2_acc_3: 0.2950 - dense_2_acc_4: 0.4350 - dense_2_acc_5: 0.6400 - dense_2_acc_6: 0.8050 - dense_2_acc_7: 0.9500 - dense_2_acc_8: 0.9750 - dense_2_acc_9: 0.9850 - dense_2_acc_10: 0.9950 - dense_2_acc_11: 0.9950 - dense_2_acc_12: 0.9950 - dense_2_acc_13: 0.9950 - dense_2_acc_14: 1.0000 - dense_2_acc_15: 1.0000 - dense_2_acc_16: 1.0000 - dense_2_acc_17: 1.0000 - dense_2_acc_18: 1.0000 - dense_2_acc_19: 1.0000 - dense_2_acc_20: 1.0000 - dense_2_acc_21: 1.0000 - dense_2_acc_22: 1.0000 - dense_2_acc_23: 1.0000 - dense_2_acc_24: 1.0000 - dense_2_acc_25: 1.0000 - dense_2_acc_26: 1.0000 - dense_2_acc_27: 1.0000 - dense_2_acc_28: 1.0000 - dense_2_acc_29: 1.0000\n",
      "Epoch 20/100\n",
      "200/200 [==============================] - 0s 2ms/step - loss: 13.8648 - dense_2_loss: 7.8036e-05 - dense_2_acc: 0.3450 - dense_2_acc_1: 0.2400 - dense_2_acc_2: 0.2700 - dense_2_acc_3: 0.2950 - dense_2_acc_4: 0.4550 - dense_2_acc_5: 0.6550 - dense_2_acc_6: 0.8150 - dense_2_acc_7: 0.9450 - dense_2_acc_8: 0.9750 - dense_2_acc_9: 0.9800 - dense_2_acc_10: 0.9950 - dense_2_acc_11: 0.9950 - dense_2_acc_12: 0.9950 - dense_2_acc_13: 0.9950 - dense_2_acc_14: 1.0000 - dense_2_acc_15: 1.0000 - dense_2_acc_16: 1.0000 - dense_2_acc_17: 1.0000 - dense_2_acc_18: 1.0000 - dense_2_acc_19: 1.0000 - dense_2_acc_20: 1.0000 - dense_2_acc_21: 1.0000 - dense_2_acc_22: 1.0000 - dense_2_acc_23: 1.0000 - dense_2_acc_24: 1.0000 - dense_2_acc_25: 1.0000 - dense_2_acc_26: 1.0000 - dense_2_acc_27: 1.0000 - dense_2_acc_28: 1.0000 - dense_2_acc_29: 1.0000\n",
      "Epoch 21/100\n",
      "200/200 [==============================] - 0s 2ms/step - loss: 14.0673 - dense_2_loss: 9.7197e-05 - dense_2_acc: 0.3450 - dense_2_acc_1: 0.2650 - dense_2_acc_2: 0.3000 - dense_2_acc_3: 0.3200 - dense_2_acc_4: 0.4250 - dense_2_acc_5: 0.6600 - dense_2_acc_6: 0.7900 - dense_2_acc_7: 0.9400 - dense_2_acc_8: 0.9750 - dense_2_acc_9: 0.9800 - dense_2_acc_10: 1.0000 - dense_2_acc_11: 0.9950 - dense_2_acc_12: 0.9950 - dense_2_acc_13: 0.9950 - dense_2_acc_14: 1.0000 - dense_2_acc_15: 1.0000 - dense_2_acc_16: 1.0000 - dense_2_acc_17: 1.0000 - dense_2_acc_18: 1.0000 - dense_2_acc_19: 1.0000 - dense_2_acc_20: 1.0000 - dense_2_acc_21: 1.0000 - dense_2_acc_22: 1.0000 - dense_2_acc_23: 1.0000 - dense_2_acc_24: 1.0000 - dense_2_acc_25: 1.0000 - dense_2_acc_26: 1.0000 - dense_2_acc_27: 1.0000 - dense_2_acc_28: 1.0000 - dense_2_acc_29: 1.0000\n",
      "Epoch 22/100\n",
      "200/200 [==============================] - 0s 2ms/step - loss: 13.7645 - dense_2_loss: 6.1364e-05 - dense_2_acc: 0.3450 - dense_2_acc_1: 0.2600 - dense_2_acc_2: 0.3100 - dense_2_acc_3: 0.3050 - dense_2_acc_4: 0.4200 - dense_2_acc_5: 0.6400 - dense_2_acc_6: 0.8050 - dense_2_acc_7: 0.9450 - dense_2_acc_8: 0.9750 - dense_2_acc_9: 0.9850 - dense_2_acc_10: 0.9950 - dense_2_acc_11: 0.9950 - dense_2_acc_12: 0.9950 - dense_2_acc_13: 0.9950 - dense_2_acc_14: 1.0000 - dense_2_acc_15: 1.0000 - dense_2_acc_16: 1.0000 - dense_2_acc_17: 1.0000 - dense_2_acc_18: 1.0000 - dense_2_acc_19: 1.0000 - dense_2_acc_20: 1.0000 - dense_2_acc_21: 1.0000 - dense_2_acc_22: 1.0000 - dense_2_acc_23: 1.0000 - dense_2_acc_24: 1.0000 - dense_2_acc_25: 1.0000 - dense_2_acc_26: 1.0000 - dense_2_acc_27: 1.0000 - dense_2_acc_28: 1.0000 - dense_2_acc_29: 1.0000\n",
      "Epoch 23/100\n",
      "200/200 [==============================] - 0s 2ms/step - loss: 13.4723 - dense_2_loss: 9.2059e-05 - dense_2_acc: 0.3450 - dense_2_acc_1: 0.2650 - dense_2_acc_2: 0.3050 - dense_2_acc_3: 0.3200 - dense_2_acc_4: 0.4400 - dense_2_acc_5: 0.6600 - dense_2_acc_6: 0.8050 - dense_2_acc_7: 0.9400 - dense_2_acc_8: 0.9750 - dense_2_acc_9: 0.9800 - dense_2_acc_10: 0.9900 - dense_2_acc_11: 0.9950 - dense_2_acc_12: 0.9950 - dense_2_acc_13: 0.9950 - dense_2_acc_14: 1.0000 - dense_2_acc_15: 1.0000 - dense_2_acc_16: 1.0000 - dense_2_acc_17: 1.0000 - dense_2_acc_18: 1.0000 - dense_2_acc_19: 1.0000 - dense_2_acc_20: 1.0000 - dense_2_acc_21: 1.0000 - dense_2_acc_22: 1.0000 - dense_2_acc_23: 1.0000 - dense_2_acc_24: 1.0000 - dense_2_acc_25: 1.0000 - dense_2_acc_26: 1.0000 - dense_2_acc_27: 1.0000 - dense_2_acc_28: 1.0000 - dense_2_acc_29: 1.0000\n",
      "Epoch 24/100\n",
      "200/200 [==============================] - 0s 2ms/step - loss: 13.2123 - dense_2_loss: 4.5972e-05 - dense_2_acc: 0.3450 - dense_2_acc_1: 0.2800 - dense_2_acc_2: 0.3200 - dense_2_acc_3: 0.3300 - dense_2_acc_4: 0.4400 - dense_2_acc_5: 0.6450 - dense_2_acc_6: 0.8150 - dense_2_acc_7: 0.9500 - dense_2_acc_8: 0.9750 - dense_2_acc_9: 0.9850 - dense_2_acc_10: 0.9950 - dense_2_acc_11: 0.9950 - dense_2_acc_12: 0.9950 - dense_2_acc_13: 0.9950 - dense_2_acc_14: 1.0000 - dense_2_acc_15: 1.0000 - dense_2_acc_16: 1.0000 - dense_2_acc_17: 1.0000 - dense_2_acc_18: 1.0000 - dense_2_acc_19: 1.0000 - dense_2_acc_20: 1.0000 - dense_2_acc_21: 1.0000 - dense_2_acc_22: 1.0000 - dense_2_acc_23: 1.0000 - dense_2_acc_24: 1.0000 - dense_2_acc_25: 1.0000 - dense_2_acc_26: 1.0000 - dense_2_acc_27: 1.0000 - dense_2_acc_28: 1.0000 - dense_2_acc_29: 1.0000\n",
      "Epoch 25/100\n",
      "200/200 [==============================] - 0s 2ms/step - loss: 13.0571 - dense_2_loss: 4.6514e-05 - dense_2_acc: 0.3450 - dense_2_acc_1: 0.2650 - dense_2_acc_2: 0.3150 - dense_2_acc_3: 0.3450 - dense_2_acc_4: 0.4800 - dense_2_acc_5: 0.6600 - dense_2_acc_6: 0.8000 - dense_2_acc_7: 0.9450 - dense_2_acc_8: 0.9750 - dense_2_acc_9: 0.9850 - dense_2_acc_10: 1.0000 - dense_2_acc_11: 0.9950 - dense_2_acc_12: 0.9950 - dense_2_acc_13: 0.9950 - dense_2_acc_14: 1.0000 - dense_2_acc_15: 1.0000 - dense_2_acc_16: 1.0000 - dense_2_acc_17: 1.0000 - dense_2_acc_18: 1.0000 - dense_2_acc_19: 1.0000 - dense_2_acc_20: 1.0000 - dense_2_acc_21: 1.0000 - dense_2_acc_22: 1.0000 - dense_2_acc_23: 1.0000 - dense_2_acc_24: 1.0000 - dense_2_acc_25: 1.0000 - dense_2_acc_26: 1.0000 - dense_2_acc_27: 1.0000 - dense_2_acc_28: 1.0000 - dense_2_acc_29: 1.0000\n",
      "Epoch 26/100\n",
      "200/200 [==============================] - 0s 2ms/step - loss: 12.9564 - dense_2_loss: 3.3765e-05 - dense_2_acc: 0.3450 - dense_2_acc_1: 0.2700 - dense_2_acc_2: 0.3150 - dense_2_acc_3: 0.3300 - dense_2_acc_4: 0.4550 - dense_2_acc_5: 0.6500 - dense_2_acc_6: 0.8150 - dense_2_acc_7: 0.9500 - dense_2_acc_8: 0.9750 - dense_2_acc_9: 0.9850 - dense_2_acc_10: 0.9950 - dense_2_acc_11: 0.9950 - dense_2_acc_12: 0.9950 - dense_2_acc_13: 0.9950 - dense_2_acc_14: 1.0000 - dense_2_acc_15: 1.0000 - dense_2_acc_16: 1.0000 - dense_2_acc_17: 1.0000 - dense_2_acc_18: 1.0000 - dense_2_acc_19: 1.0000 - dense_2_acc_20: 1.0000 - dense_2_acc_21: 1.0000 - dense_2_acc_22: 1.0000 - dense_2_acc_23: 1.0000 - dense_2_acc_24: 1.0000 - dense_2_acc_25: 1.0000 - dense_2_acc_26: 1.0000 - dense_2_acc_27: 1.0000 - dense_2_acc_28: 1.0000 - dense_2_acc_29: 1.0000\n",
      "Epoch 27/100\n",
      "200/200 [==============================] - 0s 2ms/step - loss: 12.8257 - dense_2_loss: 3.3233e-05 - dense_2_acc: 0.3450 - dense_2_acc_1: 0.2700 - dense_2_acc_2: 0.3350 - dense_2_acc_3: 0.3750 - dense_2_acc_4: 0.4400 - dense_2_acc_5: 0.6600 - dense_2_acc_6: 0.8150 - dense_2_acc_7: 0.9450 - dense_2_acc_8: 0.9750 - dense_2_acc_9: 0.9800 - dense_2_acc_10: 1.0000 - dense_2_acc_11: 0.9950 - dense_2_acc_12: 0.9950 - dense_2_acc_13: 0.9950 - dense_2_acc_14: 1.0000 - dense_2_acc_15: 1.0000 - dense_2_acc_16: 1.0000 - dense_2_acc_17: 1.0000 - dense_2_acc_18: 1.0000 - dense_2_acc_19: 1.0000 - dense_2_acc_20: 1.0000 - dense_2_acc_21: 1.0000 - dense_2_acc_22: 1.0000 - dense_2_acc_23: 1.0000 - dense_2_acc_24: 1.0000 - dense_2_acc_25: 1.0000 - dense_2_acc_26: 1.0000 - dense_2_acc_27: 1.0000 - dense_2_acc_28: 1.0000 - dense_2_acc_29: 1.0000\n",
      "Epoch 28/100\n"
     ]
    },
    {
     "name": "stdout",
     "output_type": "stream",
     "text": [
      "200/200 [==============================] - 0s 2ms/step - loss: 12.6036 - dense_2_loss: 2.7686e-05 - dense_2_acc: 0.3450 - dense_2_acc_1: 0.2700 - dense_2_acc_2: 0.3350 - dense_2_acc_3: 0.3650 - dense_2_acc_4: 0.5050 - dense_2_acc_5: 0.6550 - dense_2_acc_6: 0.8200 - dense_2_acc_7: 0.9500 - dense_2_acc_8: 0.9750 - dense_2_acc_9: 0.9850 - dense_2_acc_10: 0.9950 - dense_2_acc_11: 0.9950 - dense_2_acc_12: 0.9950 - dense_2_acc_13: 0.9950 - dense_2_acc_14: 1.0000 - dense_2_acc_15: 1.0000 - dense_2_acc_16: 1.0000 - dense_2_acc_17: 1.0000 - dense_2_acc_18: 1.0000 - dense_2_acc_19: 1.0000 - dense_2_acc_20: 1.0000 - dense_2_acc_21: 1.0000 - dense_2_acc_22: 1.0000 - dense_2_acc_23: 1.0000 - dense_2_acc_24: 1.0000 - dense_2_acc_25: 1.0000 - dense_2_acc_26: 1.0000 - dense_2_acc_27: 1.0000 - dense_2_acc_28: 1.0000 - dense_2_acc_29: 1.0000\n",
      "Epoch 29/100\n",
      "200/200 [==============================] - 0s 2ms/step - loss: 12.4356 - dense_2_loss: 2.7470e-05 - dense_2_acc: 0.3450 - dense_2_acc_1: 0.2750 - dense_2_acc_2: 0.3400 - dense_2_acc_3: 0.3700 - dense_2_acc_4: 0.5150 - dense_2_acc_5: 0.6550 - dense_2_acc_6: 0.8150 - dense_2_acc_7: 0.9550 - dense_2_acc_8: 0.9750 - dense_2_acc_9: 0.9850 - dense_2_acc_10: 1.0000 - dense_2_acc_11: 0.9950 - dense_2_acc_12: 0.9950 - dense_2_acc_13: 0.9950 - dense_2_acc_14: 1.0000 - dense_2_acc_15: 1.0000 - dense_2_acc_16: 1.0000 - dense_2_acc_17: 1.0000 - dense_2_acc_18: 1.0000 - dense_2_acc_19: 1.0000 - dense_2_acc_20: 1.0000 - dense_2_acc_21: 1.0000 - dense_2_acc_22: 1.0000 - dense_2_acc_23: 1.0000 - dense_2_acc_24: 1.0000 - dense_2_acc_25: 1.0000 - dense_2_acc_26: 1.0000 - dense_2_acc_27: 1.0000 - dense_2_acc_28: 1.0000 - dense_2_acc_29: 1.0000\n",
      "Epoch 30/100\n",
      "200/200 [==============================] - 0s 2ms/step - loss: 12.3000 - dense_2_loss: 2.4932e-05 - dense_2_acc: 0.3450 - dense_2_acc_1: 0.2800 - dense_2_acc_2: 0.3500 - dense_2_acc_3: 0.3800 - dense_2_acc_4: 0.4900 - dense_2_acc_5: 0.6950 - dense_2_acc_6: 0.8200 - dense_2_acc_7: 0.9500 - dense_2_acc_8: 0.9750 - dense_2_acc_9: 0.9850 - dense_2_acc_10: 1.0000 - dense_2_acc_11: 0.9950 - dense_2_acc_12: 0.9950 - dense_2_acc_13: 0.9950 - dense_2_acc_14: 1.0000 - dense_2_acc_15: 1.0000 - dense_2_acc_16: 1.0000 - dense_2_acc_17: 1.0000 - dense_2_acc_18: 1.0000 - dense_2_acc_19: 1.0000 - dense_2_acc_20: 1.0000 - dense_2_acc_21: 1.0000 - dense_2_acc_22: 1.0000 - dense_2_acc_23: 1.0000 - dense_2_acc_24: 1.0000 - dense_2_acc_25: 1.0000 - dense_2_acc_26: 1.0000 - dense_2_acc_27: 1.0000 - dense_2_acc_28: 1.0000 - dense_2_acc_29: 1.0000\n",
      "Epoch 31/100\n",
      "200/200 [==============================] - 0s 2ms/step - loss: 12.1698 - dense_2_loss: 2.2433e-05 - dense_2_acc: 0.3500 - dense_2_acc_1: 0.2800 - dense_2_acc_2: 0.3450 - dense_2_acc_3: 0.3850 - dense_2_acc_4: 0.5150 - dense_2_acc_5: 0.6700 - dense_2_acc_6: 0.8200 - dense_2_acc_7: 0.9550 - dense_2_acc_8: 0.9750 - dense_2_acc_9: 0.9850 - dense_2_acc_10: 1.0000 - dense_2_acc_11: 0.9950 - dense_2_acc_12: 0.9950 - dense_2_acc_13: 0.9950 - dense_2_acc_14: 1.0000 - dense_2_acc_15: 1.0000 - dense_2_acc_16: 1.0000 - dense_2_acc_17: 1.0000 - dense_2_acc_18: 1.0000 - dense_2_acc_19: 1.0000 - dense_2_acc_20: 1.0000 - dense_2_acc_21: 1.0000 - dense_2_acc_22: 1.0000 - dense_2_acc_23: 1.0000 - dense_2_acc_24: 1.0000 - dense_2_acc_25: 1.0000 - dense_2_acc_26: 1.0000 - dense_2_acc_27: 1.0000 - dense_2_acc_28: 1.0000 - dense_2_acc_29: 1.0000\n",
      "Epoch 32/100\n",
      "200/200 [==============================] - 0s 2ms/step - loss: 12.0521 - dense_2_loss: 2.1414e-05 - dense_2_acc: 0.3500 - dense_2_acc_1: 0.2900 - dense_2_acc_2: 0.3600 - dense_2_acc_3: 0.3800 - dense_2_acc_4: 0.4900 - dense_2_acc_5: 0.6750 - dense_2_acc_6: 0.8200 - dense_2_acc_7: 0.9600 - dense_2_acc_8: 0.9800 - dense_2_acc_9: 0.9850 - dense_2_acc_10: 1.0000 - dense_2_acc_11: 0.9950 - dense_2_acc_12: 1.0000 - dense_2_acc_13: 0.9950 - dense_2_acc_14: 1.0000 - dense_2_acc_15: 1.0000 - dense_2_acc_16: 1.0000 - dense_2_acc_17: 1.0000 - dense_2_acc_18: 1.0000 - dense_2_acc_19: 1.0000 - dense_2_acc_20: 1.0000 - dense_2_acc_21: 1.0000 - dense_2_acc_22: 1.0000 - dense_2_acc_23: 1.0000 - dense_2_acc_24: 1.0000 - dense_2_acc_25: 1.0000 - dense_2_acc_26: 1.0000 - dense_2_acc_27: 1.0000 - dense_2_acc_28: 1.0000 - dense_2_acc_29: 1.0000\n",
      "Epoch 33/100\n",
      "200/200 [==============================] - 0s 2ms/step - loss: 11.9346 - dense_2_loss: 1.8867e-05 - dense_2_acc: 0.3450 - dense_2_acc_1: 0.2950 - dense_2_acc_2: 0.3500 - dense_2_acc_3: 0.3700 - dense_2_acc_4: 0.5150 - dense_2_acc_5: 0.6750 - dense_2_acc_6: 0.8300 - dense_2_acc_7: 0.9550 - dense_2_acc_8: 0.9800 - dense_2_acc_9: 0.9850 - dense_2_acc_10: 1.0000 - dense_2_acc_11: 0.9950 - dense_2_acc_12: 1.0000 - dense_2_acc_13: 0.9950 - dense_2_acc_14: 1.0000 - dense_2_acc_15: 1.0000 - dense_2_acc_16: 1.0000 - dense_2_acc_17: 1.0000 - dense_2_acc_18: 1.0000 - dense_2_acc_19: 1.0000 - dense_2_acc_20: 1.0000 - dense_2_acc_21: 1.0000 - dense_2_acc_22: 1.0000 - dense_2_acc_23: 1.0000 - dense_2_acc_24: 1.0000 - dense_2_acc_25: 1.0000 - dense_2_acc_26: 1.0000 - dense_2_acc_27: 1.0000 - dense_2_acc_28: 1.0000 - dense_2_acc_29: 1.0000\n",
      "Epoch 34/100\n",
      "200/200 [==============================] - 0s 2ms/step - loss: 11.8193 - dense_2_loss: 1.5629e-05 - dense_2_acc: 0.3450 - dense_2_acc_1: 0.3000 - dense_2_acc_2: 0.3550 - dense_2_acc_3: 0.3900 - dense_2_acc_4: 0.5150 - dense_2_acc_5: 0.6750 - dense_2_acc_6: 0.8350 - dense_2_acc_7: 0.9600 - dense_2_acc_8: 0.9800 - dense_2_acc_9: 0.9850 - dense_2_acc_10: 1.0000 - dense_2_acc_11: 0.9950 - dense_2_acc_12: 1.0000 - dense_2_acc_13: 0.9950 - dense_2_acc_14: 1.0000 - dense_2_acc_15: 1.0000 - dense_2_acc_16: 1.0000 - dense_2_acc_17: 1.0000 - dense_2_acc_18: 1.0000 - dense_2_acc_19: 1.0000 - dense_2_acc_20: 1.0000 - dense_2_acc_21: 1.0000 - dense_2_acc_22: 1.0000 - dense_2_acc_23: 1.0000 - dense_2_acc_24: 1.0000 - dense_2_acc_25: 1.0000 - dense_2_acc_26: 1.0000 - dense_2_acc_27: 1.0000 - dense_2_acc_28: 1.0000 - dense_2_acc_29: 1.0000\n",
      "Epoch 35/100\n",
      "200/200 [==============================] - 0s 2ms/step - loss: 11.7239 - dense_2_loss: 1.7066e-05 - dense_2_acc: 0.3450 - dense_2_acc_1: 0.3050 - dense_2_acc_2: 0.3550 - dense_2_acc_3: 0.3900 - dense_2_acc_4: 0.5150 - dense_2_acc_5: 0.6950 - dense_2_acc_6: 0.8300 - dense_2_acc_7: 0.9550 - dense_2_acc_8: 0.9800 - dense_2_acc_9: 0.9850 - dense_2_acc_10: 1.0000 - dense_2_acc_11: 0.9950 - dense_2_acc_12: 1.0000 - dense_2_acc_13: 0.9950 - dense_2_acc_14: 1.0000 - dense_2_acc_15: 1.0000 - dense_2_acc_16: 1.0000 - dense_2_acc_17: 1.0000 - dense_2_acc_18: 1.0000 - dense_2_acc_19: 1.0000 - dense_2_acc_20: 1.0000 - dense_2_acc_21: 1.0000 - dense_2_acc_22: 1.0000 - dense_2_acc_23: 1.0000 - dense_2_acc_24: 1.0000 - dense_2_acc_25: 1.0000 - dense_2_acc_26: 1.0000 - dense_2_acc_27: 1.0000 - dense_2_acc_28: 1.0000 - dense_2_acc_29: 1.0000\n",
      "Epoch 36/100\n",
      "200/200 [==============================] - 0s 2ms/step - loss: 11.6272 - dense_2_loss: 1.5703e-05 - dense_2_acc: 0.3450 - dense_2_acc_1: 0.2950 - dense_2_acc_2: 0.3650 - dense_2_acc_3: 0.3950 - dense_2_acc_4: 0.5200 - dense_2_acc_5: 0.7050 - dense_2_acc_6: 0.8400 - dense_2_acc_7: 0.9600 - dense_2_acc_8: 0.9800 - dense_2_acc_9: 0.9850 - dense_2_acc_10: 1.0000 - dense_2_acc_11: 0.9950 - dense_2_acc_12: 1.0000 - dense_2_acc_13: 0.9950 - dense_2_acc_14: 1.0000 - dense_2_acc_15: 1.0000 - dense_2_acc_16: 1.0000 - dense_2_acc_17: 1.0000 - dense_2_acc_18: 1.0000 - dense_2_acc_19: 1.0000 - dense_2_acc_20: 1.0000 - dense_2_acc_21: 1.0000 - dense_2_acc_22: 1.0000 - dense_2_acc_23: 1.0000 - dense_2_acc_24: 1.0000 - dense_2_acc_25: 1.0000 - dense_2_acc_26: 1.0000 - dense_2_acc_27: 1.0000 - dense_2_acc_28: 1.0000 - dense_2_acc_29: 1.0000\n",
      "Epoch 37/100\n"
     ]
    },
    {
     "name": "stdout",
     "output_type": "stream",
     "text": [
      "200/200 [==============================] - 0s 2ms/step - loss: 11.4774 - dense_2_loss: 1.4611e-05 - dense_2_acc: 0.3600 - dense_2_acc_1: 0.2950 - dense_2_acc_2: 0.3650 - dense_2_acc_3: 0.4150 - dense_2_acc_4: 0.5400 - dense_2_acc_5: 0.6900 - dense_2_acc_6: 0.8400 - dense_2_acc_7: 0.9700 - dense_2_acc_8: 0.9850 - dense_2_acc_9: 0.9900 - dense_2_acc_10: 0.9950 - dense_2_acc_11: 0.9950 - dense_2_acc_12: 1.0000 - dense_2_acc_13: 0.9950 - dense_2_acc_14: 1.0000 - dense_2_acc_15: 1.0000 - dense_2_acc_16: 1.0000 - dense_2_acc_17: 1.0000 - dense_2_acc_18: 1.0000 - dense_2_acc_19: 1.0000 - dense_2_acc_20: 1.0000 - dense_2_acc_21: 1.0000 - dense_2_acc_22: 1.0000 - dense_2_acc_23: 1.0000 - dense_2_acc_24: 1.0000 - dense_2_acc_25: 1.0000 - dense_2_acc_26: 1.0000 - dense_2_acc_27: 1.0000 - dense_2_acc_28: 1.0000 - dense_2_acc_29: 1.0000\n",
      "Epoch 38/100\n",
      "200/200 [==============================] - 0s 2ms/step - loss: 11.3322 - dense_2_loss: 1.4228e-05 - dense_2_acc: 0.3600 - dense_2_acc_1: 0.3100 - dense_2_acc_2: 0.3700 - dense_2_acc_3: 0.4450 - dense_2_acc_4: 0.5250 - dense_2_acc_5: 0.6900 - dense_2_acc_6: 0.8350 - dense_2_acc_7: 0.9650 - dense_2_acc_8: 0.9800 - dense_2_acc_9: 0.9900 - dense_2_acc_10: 1.0000 - dense_2_acc_11: 0.9950 - dense_2_acc_12: 1.0000 - dense_2_acc_13: 0.9950 - dense_2_acc_14: 1.0000 - dense_2_acc_15: 1.0000 - dense_2_acc_16: 1.0000 - dense_2_acc_17: 1.0000 - dense_2_acc_18: 1.0000 - dense_2_acc_19: 1.0000 - dense_2_acc_20: 1.0000 - dense_2_acc_21: 1.0000 - dense_2_acc_22: 1.0000 - dense_2_acc_23: 1.0000 - dense_2_acc_24: 1.0000 - dense_2_acc_25: 1.0000 - dense_2_acc_26: 1.0000 - dense_2_acc_27: 1.0000 - dense_2_acc_28: 1.0000 - dense_2_acc_29: 1.0000\n",
      "Epoch 39/100\n",
      "200/200 [==============================] - 0s 2ms/step - loss: 11.3142 - dense_2_loss: 1.4583e-05 - dense_2_acc: 0.3600 - dense_2_acc_1: 0.3000 - dense_2_acc_2: 0.3600 - dense_2_acc_3: 0.4500 - dense_2_acc_4: 0.5300 - dense_2_acc_5: 0.6850 - dense_2_acc_6: 0.8400 - dense_2_acc_7: 0.9650 - dense_2_acc_8: 0.9800 - dense_2_acc_9: 0.9900 - dense_2_acc_10: 1.0000 - dense_2_acc_11: 1.0000 - dense_2_acc_12: 1.0000 - dense_2_acc_13: 0.9950 - dense_2_acc_14: 1.0000 - dense_2_acc_15: 1.0000 - dense_2_acc_16: 1.0000 - dense_2_acc_17: 1.0000 - dense_2_acc_18: 1.0000 - dense_2_acc_19: 1.0000 - dense_2_acc_20: 1.0000 - dense_2_acc_21: 1.0000 - dense_2_acc_22: 1.0000 - dense_2_acc_23: 1.0000 - dense_2_acc_24: 1.0000 - dense_2_acc_25: 1.0000 - dense_2_acc_26: 1.0000 - dense_2_acc_27: 1.0000 - dense_2_acc_28: 1.0000 - dense_2_acc_29: 1.0000\n",
      "Epoch 40/100\n",
      "200/200 [==============================] - 0s 2ms/step - loss: 11.1251 - dense_2_loss: 1.4425e-05 - dense_2_acc: 0.3600 - dense_2_acc_1: 0.3050 - dense_2_acc_2: 0.3650 - dense_2_acc_3: 0.4250 - dense_2_acc_4: 0.5250 - dense_2_acc_5: 0.7150 - dense_2_acc_6: 0.8450 - dense_2_acc_7: 0.9600 - dense_2_acc_8: 0.9800 - dense_2_acc_9: 0.9850 - dense_2_acc_10: 1.0000 - dense_2_acc_11: 0.9950 - dense_2_acc_12: 1.0000 - dense_2_acc_13: 0.9950 - dense_2_acc_14: 1.0000 - dense_2_acc_15: 1.0000 - dense_2_acc_16: 1.0000 - dense_2_acc_17: 1.0000 - dense_2_acc_18: 1.0000 - dense_2_acc_19: 1.0000 - dense_2_acc_20: 1.0000 - dense_2_acc_21: 1.0000 - dense_2_acc_22: 1.0000 - dense_2_acc_23: 1.0000 - dense_2_acc_24: 1.0000 - dense_2_acc_25: 1.0000 - dense_2_acc_26: 1.0000 - dense_2_acc_27: 1.0000 - dense_2_acc_28: 1.0000 - dense_2_acc_29: 1.0000\n",
      "Epoch 41/100\n",
      "200/200 [==============================] - 0s 2ms/step - loss: 11.0270 - dense_2_loss: 1.2871e-05 - dense_2_acc: 0.3600 - dense_2_acc_1: 0.3000 - dense_2_acc_2: 0.3700 - dense_2_acc_3: 0.4400 - dense_2_acc_4: 0.5150 - dense_2_acc_5: 0.7350 - dense_2_acc_6: 0.8450 - dense_2_acc_7: 0.9600 - dense_2_acc_8: 0.9850 - dense_2_acc_9: 0.9900 - dense_2_acc_10: 0.9950 - dense_2_acc_11: 0.9950 - dense_2_acc_12: 0.9950 - dense_2_acc_13: 0.9950 - dense_2_acc_14: 1.0000 - dense_2_acc_15: 1.0000 - dense_2_acc_16: 1.0000 - dense_2_acc_17: 1.0000 - dense_2_acc_18: 1.0000 - dense_2_acc_19: 1.0000 - dense_2_acc_20: 1.0000 - dense_2_acc_21: 1.0000 - dense_2_acc_22: 1.0000 - dense_2_acc_23: 1.0000 - dense_2_acc_24: 1.0000 - dense_2_acc_25: 1.0000 - dense_2_acc_26: 1.0000 - dense_2_acc_27: 1.0000 - dense_2_acc_28: 1.0000 - dense_2_acc_29: 1.0000\n",
      "Epoch 42/100\n",
      "200/200 [==============================] - 0s 2ms/step - loss: 10.9273 - dense_2_loss: 1.2719e-05 - dense_2_acc: 0.3700 - dense_2_acc_1: 0.3050 - dense_2_acc_2: 0.3700 - dense_2_acc_3: 0.4100 - dense_2_acc_4: 0.5300 - dense_2_acc_5: 0.7350 - dense_2_acc_6: 0.8550 - dense_2_acc_7: 0.9700 - dense_2_acc_8: 0.9800 - dense_2_acc_9: 0.9900 - dense_2_acc_10: 0.9950 - dense_2_acc_11: 0.9950 - dense_2_acc_12: 1.0000 - dense_2_acc_13: 1.0000 - dense_2_acc_14: 1.0000 - dense_2_acc_15: 1.0000 - dense_2_acc_16: 1.0000 - dense_2_acc_17: 1.0000 - dense_2_acc_18: 1.0000 - dense_2_acc_19: 1.0000 - dense_2_acc_20: 1.0000 - dense_2_acc_21: 1.0000 - dense_2_acc_22: 1.0000 - dense_2_acc_23: 1.0000 - dense_2_acc_24: 1.0000 - dense_2_acc_25: 1.0000 - dense_2_acc_26: 1.0000 - dense_2_acc_27: 1.0000 - dense_2_acc_28: 1.0000 - dense_2_acc_29: 1.0000\n",
      "Epoch 43/100\n",
      "200/200 [==============================] - 0s 2ms/step - loss: 10.8202 - dense_2_loss: 1.2576e-05 - dense_2_acc: 0.3700 - dense_2_acc_1: 0.3150 - dense_2_acc_2: 0.3600 - dense_2_acc_3: 0.4450 - dense_2_acc_4: 0.5150 - dense_2_acc_5: 0.7300 - dense_2_acc_6: 0.8650 - dense_2_acc_7: 0.9700 - dense_2_acc_8: 0.9850 - dense_2_acc_9: 0.9950 - dense_2_acc_10: 1.0000 - dense_2_acc_11: 1.0000 - dense_2_acc_12: 1.0000 - dense_2_acc_13: 0.9950 - dense_2_acc_14: 1.0000 - dense_2_acc_15: 1.0000 - dense_2_acc_16: 1.0000 - dense_2_acc_17: 1.0000 - dense_2_acc_18: 1.0000 - dense_2_acc_19: 1.0000 - dense_2_acc_20: 1.0000 - dense_2_acc_21: 1.0000 - dense_2_acc_22: 1.0000 - dense_2_acc_23: 1.0000 - dense_2_acc_24: 1.0000 - dense_2_acc_25: 1.0000 - dense_2_acc_26: 1.0000 - dense_2_acc_27: 1.0000 - dense_2_acc_28: 1.0000 - dense_2_acc_29: 1.0000\n",
      "Epoch 44/100\n",
      "200/200 [==============================] - 0s 2ms/step - loss: 10.7332 - dense_2_loss: 1.2504e-05 - dense_2_acc: 0.3650 - dense_2_acc_1: 0.3050 - dense_2_acc_2: 0.3700 - dense_2_acc_3: 0.4200 - dense_2_acc_4: 0.5350 - dense_2_acc_5: 0.7400 - dense_2_acc_6: 0.8350 - dense_2_acc_7: 0.9650 - dense_2_acc_8: 0.9850 - dense_2_acc_9: 0.9850 - dense_2_acc_10: 1.0000 - dense_2_acc_11: 0.9950 - dense_2_acc_12: 1.0000 - dense_2_acc_13: 0.9950 - dense_2_acc_14: 1.0000 - dense_2_acc_15: 1.0000 - dense_2_acc_16: 1.0000 - dense_2_acc_17: 1.0000 - dense_2_acc_18: 1.0000 - dense_2_acc_19: 1.0000 - dense_2_acc_20: 1.0000 - dense_2_acc_21: 1.0000 - dense_2_acc_22: 1.0000 - dense_2_acc_23: 1.0000 - dense_2_acc_24: 1.0000 - dense_2_acc_25: 1.0000 - dense_2_acc_26: 1.0000 - dense_2_acc_27: 1.0000 - dense_2_acc_28: 1.0000 - dense_2_acc_29: 1.0000\n",
      "Epoch 45/100\n",
      "200/200 [==============================] - 0s 2ms/step - loss: 10.5857 - dense_2_loss: 1.2509e-05 - dense_2_acc: 0.3600 - dense_2_acc_1: 0.3000 - dense_2_acc_2: 0.3600 - dense_2_acc_3: 0.4500 - dense_2_acc_4: 0.5350 - dense_2_acc_5: 0.7100 - dense_2_acc_6: 0.8450 - dense_2_acc_7: 0.9700 - dense_2_acc_8: 0.9900 - dense_2_acc_9: 0.9900 - dense_2_acc_10: 1.0000 - dense_2_acc_11: 0.9950 - dense_2_acc_12: 1.0000 - dense_2_acc_13: 1.0000 - dense_2_acc_14: 1.0000 - dense_2_acc_15: 1.0000 - dense_2_acc_16: 1.0000 - dense_2_acc_17: 1.0000 - dense_2_acc_18: 1.0000 - dense_2_acc_19: 1.0000 - dense_2_acc_20: 1.0000 - dense_2_acc_21: 1.0000 - dense_2_acc_22: 1.0000 - dense_2_acc_23: 1.0000 - dense_2_acc_24: 1.0000 - dense_2_acc_25: 1.0000 - dense_2_acc_26: 1.0000 - dense_2_acc_27: 1.0000 - dense_2_acc_28: 1.0000 - dense_2_acc_29: 1.0000\n",
      "Epoch 46/100\n"
     ]
    },
    {
     "name": "stdout",
     "output_type": "stream",
     "text": [
      "200/200 [==============================] - 0s 2ms/step - loss: 10.4969 - dense_2_loss: 1.2554e-05 - dense_2_acc: 0.3700 - dense_2_acc_1: 0.3150 - dense_2_acc_2: 0.3650 - dense_2_acc_3: 0.4450 - dense_2_acc_4: 0.5650 - dense_2_acc_5: 0.7650 - dense_2_acc_6: 0.8750 - dense_2_acc_7: 0.9600 - dense_2_acc_8: 0.9950 - dense_2_acc_9: 0.9950 - dense_2_acc_10: 1.0000 - dense_2_acc_11: 0.9950 - dense_2_acc_12: 1.0000 - dense_2_acc_13: 0.9950 - dense_2_acc_14: 1.0000 - dense_2_acc_15: 1.0000 - dense_2_acc_16: 1.0000 - dense_2_acc_17: 1.0000 - dense_2_acc_18: 1.0000 - dense_2_acc_19: 1.0000 - dense_2_acc_20: 1.0000 - dense_2_acc_21: 1.0000 - dense_2_acc_22: 1.0000 - dense_2_acc_23: 1.0000 - dense_2_acc_24: 1.0000 - dense_2_acc_25: 1.0000 - dense_2_acc_26: 1.0000 - dense_2_acc_27: 1.0000 - dense_2_acc_28: 1.0000 - dense_2_acc_29: 1.0000\n",
      "Epoch 47/100\n",
      "200/200 [==============================] - 0s 2ms/step - loss: 10.3234 - dense_2_loss: 1.0913e-05 - dense_2_acc: 0.3700 - dense_2_acc_1: 0.3150 - dense_2_acc_2: 0.3600 - dense_2_acc_3: 0.4700 - dense_2_acc_4: 0.5800 - dense_2_acc_5: 0.7500 - dense_2_acc_6: 0.8700 - dense_2_acc_7: 0.9650 - dense_2_acc_8: 0.9900 - dense_2_acc_9: 0.9900 - dense_2_acc_10: 1.0000 - dense_2_acc_11: 0.9950 - dense_2_acc_12: 1.0000 - dense_2_acc_13: 1.0000 - dense_2_acc_14: 1.0000 - dense_2_acc_15: 1.0000 - dense_2_acc_16: 1.0000 - dense_2_acc_17: 1.0000 - dense_2_acc_18: 1.0000 - dense_2_acc_19: 1.0000 - dense_2_acc_20: 1.0000 - dense_2_acc_21: 1.0000 - dense_2_acc_22: 1.0000 - dense_2_acc_23: 1.0000 - dense_2_acc_24: 1.0000 - dense_2_acc_25: 1.0000 - dense_2_acc_26: 1.0000 - dense_2_acc_27: 1.0000 - dense_2_acc_28: 1.0000 - dense_2_acc_29: 1.0000\n",
      "Epoch 48/100\n",
      "200/200 [==============================] - 0s 2ms/step - loss: 10.2224 - dense_2_loss: 1.1097e-05 - dense_2_acc: 0.3700 - dense_2_acc_1: 0.3250 - dense_2_acc_2: 0.3700 - dense_2_acc_3: 0.4650 - dense_2_acc_4: 0.5700 - dense_2_acc_5: 0.7750 - dense_2_acc_6: 0.8800 - dense_2_acc_7: 0.9700 - dense_2_acc_8: 0.9900 - dense_2_acc_9: 0.9900 - dense_2_acc_10: 1.0000 - dense_2_acc_11: 0.9950 - dense_2_acc_12: 1.0000 - dense_2_acc_13: 0.9950 - dense_2_acc_14: 1.0000 - dense_2_acc_15: 1.0000 - dense_2_acc_16: 1.0000 - dense_2_acc_17: 1.0000 - dense_2_acc_18: 1.0000 - dense_2_acc_19: 1.0000 - dense_2_acc_20: 1.0000 - dense_2_acc_21: 1.0000 - dense_2_acc_22: 1.0000 - dense_2_acc_23: 1.0000 - dense_2_acc_24: 1.0000 - dense_2_acc_25: 1.0000 - dense_2_acc_26: 1.0000 - dense_2_acc_27: 1.0000 - dense_2_acc_28: 1.0000 - dense_2_acc_29: 1.0000\n",
      "Epoch 49/100\n",
      "200/200 [==============================] - 0s 2ms/step - loss: 10.0909 - dense_2_loss: 1.0180e-05 - dense_2_acc: 0.3600 - dense_2_acc_1: 0.3300 - dense_2_acc_2: 0.3650 - dense_2_acc_3: 0.4650 - dense_2_acc_4: 0.5600 - dense_2_acc_5: 0.7850 - dense_2_acc_6: 0.8850 - dense_2_acc_7: 0.9700 - dense_2_acc_8: 0.9900 - dense_2_acc_9: 0.9950 - dense_2_acc_10: 1.0000 - dense_2_acc_11: 0.9950 - dense_2_acc_12: 1.0000 - dense_2_acc_13: 0.9950 - dense_2_acc_14: 1.0000 - dense_2_acc_15: 1.0000 - dense_2_acc_16: 1.0000 - dense_2_acc_17: 1.0000 - dense_2_acc_18: 1.0000 - dense_2_acc_19: 1.0000 - dense_2_acc_20: 1.0000 - dense_2_acc_21: 1.0000 - dense_2_acc_22: 1.0000 - dense_2_acc_23: 1.0000 - dense_2_acc_24: 1.0000 - dense_2_acc_25: 1.0000 - dense_2_acc_26: 1.0000 - dense_2_acc_27: 1.0000 - dense_2_acc_28: 1.0000 - dense_2_acc_29: 1.0000\n",
      "Epoch 50/100\n",
      "200/200 [==============================] - 0s 2ms/step - loss: 9.9740 - dense_2_loss: 1.0115e-05 - dense_2_acc: 0.3650 - dense_2_acc_1: 0.3350 - dense_2_acc_2: 0.3750 - dense_2_acc_3: 0.4800 - dense_2_acc_4: 0.5950 - dense_2_acc_5: 0.7850 - dense_2_acc_6: 0.8950 - dense_2_acc_7: 0.9650 - dense_2_acc_8: 0.9950 - dense_2_acc_9: 0.9950 - dense_2_acc_10: 0.9950 - dense_2_acc_11: 0.9950 - dense_2_acc_12: 0.9950 - dense_2_acc_13: 0.9950 - dense_2_acc_14: 1.0000 - dense_2_acc_15: 1.0000 - dense_2_acc_16: 1.0000 - dense_2_acc_17: 1.0000 - dense_2_acc_18: 1.0000 - dense_2_acc_19: 1.0000 - dense_2_acc_20: 1.0000 - dense_2_acc_21: 1.0000 - dense_2_acc_22: 1.0000 - dense_2_acc_23: 1.0000 - dense_2_acc_24: 1.0000 - dense_2_acc_25: 1.0000 - dense_2_acc_26: 1.0000 - dense_2_acc_27: 1.0000 - dense_2_acc_28: 1.0000 - dense_2_acc_29: 1.0000\n",
      "Epoch 51/100\n",
      "200/200 [==============================] - 0s 2ms/step - loss: 9.8521 - dense_2_loss: 1.0710e-05 - dense_2_acc: 0.3650 - dense_2_acc_1: 0.3400 - dense_2_acc_2: 0.3750 - dense_2_acc_3: 0.5050 - dense_2_acc_4: 0.6200 - dense_2_acc_5: 0.8000 - dense_2_acc_6: 0.8900 - dense_2_acc_7: 0.9700 - dense_2_acc_8: 0.9900 - dense_2_acc_9: 0.9950 - dense_2_acc_10: 1.0000 - dense_2_acc_11: 0.9950 - dense_2_acc_12: 1.0000 - dense_2_acc_13: 1.0000 - dense_2_acc_14: 1.0000 - dense_2_acc_15: 1.0000 - dense_2_acc_16: 1.0000 - dense_2_acc_17: 1.0000 - dense_2_acc_18: 1.0000 - dense_2_acc_19: 1.0000 - dense_2_acc_20: 1.0000 - dense_2_acc_21: 1.0000 - dense_2_acc_22: 1.0000 - dense_2_acc_23: 1.0000 - dense_2_acc_24: 1.0000 - dense_2_acc_25: 1.0000 - dense_2_acc_26: 1.0000 - dense_2_acc_27: 1.0000 - dense_2_acc_28: 1.0000 - dense_2_acc_29: 1.0000\n",
      "Epoch 52/100\n",
      "200/200 [==============================] - 0s 2ms/step - loss: 9.8224 - dense_2_loss: 1.0312e-05 - dense_2_acc: 0.3650 - dense_2_acc_1: 0.3450 - dense_2_acc_2: 0.3700 - dense_2_acc_3: 0.4650 - dense_2_acc_4: 0.5900 - dense_2_acc_5: 0.7950 - dense_2_acc_6: 0.8800 - dense_2_acc_7: 0.9700 - dense_2_acc_8: 0.9850 - dense_2_acc_9: 0.9950 - dense_2_acc_10: 1.0000 - dense_2_acc_11: 0.9950 - dense_2_acc_12: 1.0000 - dense_2_acc_13: 0.9950 - dense_2_acc_14: 1.0000 - dense_2_acc_15: 1.0000 - dense_2_acc_16: 1.0000 - dense_2_acc_17: 1.0000 - dense_2_acc_18: 1.0000 - dense_2_acc_19: 1.0000 - dense_2_acc_20: 1.0000 - dense_2_acc_21: 1.0000 - dense_2_acc_22: 1.0000 - dense_2_acc_23: 1.0000 - dense_2_acc_24: 1.0000 - dense_2_acc_25: 1.0000 - dense_2_acc_26: 1.0000 - dense_2_acc_27: 1.0000 - dense_2_acc_28: 1.0000 - dense_2_acc_29: 1.0000\n",
      "Epoch 53/100\n",
      "200/200 [==============================] - 0s 2ms/step - loss: 9.7450 - dense_2_loss: 9.6581e-06 - dense_2_acc: 0.3550 - dense_2_acc_1: 0.3400 - dense_2_acc_2: 0.3750 - dense_2_acc_3: 0.5150 - dense_2_acc_4: 0.6150 - dense_2_acc_5: 0.7800 - dense_2_acc_6: 0.8800 - dense_2_acc_7: 0.9750 - dense_2_acc_8: 0.9800 - dense_2_acc_9: 0.9850 - dense_2_acc_10: 1.0000 - dense_2_acc_11: 0.9950 - dense_2_acc_12: 1.0000 - dense_2_acc_13: 0.9950 - dense_2_acc_14: 1.0000 - dense_2_acc_15: 1.0000 - dense_2_acc_16: 1.0000 - dense_2_acc_17: 1.0000 - dense_2_acc_18: 1.0000 - dense_2_acc_19: 1.0000 - dense_2_acc_20: 1.0000 - dense_2_acc_21: 1.0000 - dense_2_acc_22: 1.0000 - dense_2_acc_23: 1.0000 - dense_2_acc_24: 1.0000 - dense_2_acc_25: 1.0000 - dense_2_acc_26: 1.0000 - dense_2_acc_27: 1.0000 - dense_2_acc_28: 1.0000 - dense_2_acc_29: 1.0000\n",
      "Epoch 54/100\n",
      "200/200 [==============================] - 0s 2ms/step - loss: 9.6061 - dense_2_loss: 1.1098e-05 - dense_2_acc: 0.3700 - dense_2_acc_1: 0.3400 - dense_2_acc_2: 0.3900 - dense_2_acc_3: 0.5250 - dense_2_acc_4: 0.6050 - dense_2_acc_5: 0.8300 - dense_2_acc_6: 0.9100 - dense_2_acc_7: 0.9600 - dense_2_acc_8: 0.9900 - dense_2_acc_9: 0.9900 - dense_2_acc_10: 1.0000 - dense_2_acc_11: 1.0000 - dense_2_acc_12: 1.0000 - dense_2_acc_13: 0.9950 - dense_2_acc_14: 1.0000 - dense_2_acc_15: 1.0000 - dense_2_acc_16: 1.0000 - dense_2_acc_17: 1.0000 - dense_2_acc_18: 1.0000 - dense_2_acc_19: 1.0000 - dense_2_acc_20: 1.0000 - dense_2_acc_21: 1.0000 - dense_2_acc_22: 1.0000 - dense_2_acc_23: 1.0000 - dense_2_acc_24: 1.0000 - dense_2_acc_25: 1.0000 - dense_2_acc_26: 1.0000 - dense_2_acc_27: 1.0000 - dense_2_acc_28: 1.0000 - dense_2_acc_29: 1.0000\n",
      "Epoch 55/100\n"
     ]
    },
    {
     "name": "stdout",
     "output_type": "stream",
     "text": [
      "200/200 [==============================] - 0s 2ms/step - loss: 9.5652 - dense_2_loss: 1.0367e-05 - dense_2_acc: 0.3700 - dense_2_acc_1: 0.3400 - dense_2_acc_2: 0.4100 - dense_2_acc_3: 0.5400 - dense_2_acc_4: 0.6250 - dense_2_acc_5: 0.7850 - dense_2_acc_6: 0.8900 - dense_2_acc_7: 0.9700 - dense_2_acc_8: 0.9950 - dense_2_acc_9: 0.9850 - dense_2_acc_10: 1.0000 - dense_2_acc_11: 0.9950 - dense_2_acc_12: 1.0000 - dense_2_acc_13: 1.0000 - dense_2_acc_14: 1.0000 - dense_2_acc_15: 1.0000 - dense_2_acc_16: 1.0000 - dense_2_acc_17: 1.0000 - dense_2_acc_18: 1.0000 - dense_2_acc_19: 1.0000 - dense_2_acc_20: 1.0000 - dense_2_acc_21: 1.0000 - dense_2_acc_22: 1.0000 - dense_2_acc_23: 1.0000 - dense_2_acc_24: 1.0000 - dense_2_acc_25: 1.0000 - dense_2_acc_26: 1.0000 - dense_2_acc_27: 1.0000 - dense_2_acc_28: 1.0000 - dense_2_acc_29: 1.0000\n",
      "Epoch 56/100\n",
      "200/200 [==============================] - 0s 2ms/step - loss: 9.3463 - dense_2_loss: 1.1501e-05 - dense_2_acc: 0.3700 - dense_2_acc_1: 0.3400 - dense_2_acc_2: 0.3950 - dense_2_acc_3: 0.5400 - dense_2_acc_4: 0.6500 - dense_2_acc_5: 0.7950 - dense_2_acc_6: 0.9150 - dense_2_acc_7: 0.9750 - dense_2_acc_8: 0.9950 - dense_2_acc_9: 0.9950 - dense_2_acc_10: 1.0000 - dense_2_acc_11: 1.0000 - dense_2_acc_12: 1.0000 - dense_2_acc_13: 1.0000 - dense_2_acc_14: 1.0000 - dense_2_acc_15: 1.0000 - dense_2_acc_16: 1.0000 - dense_2_acc_17: 1.0000 - dense_2_acc_18: 1.0000 - dense_2_acc_19: 1.0000 - dense_2_acc_20: 1.0000 - dense_2_acc_21: 1.0000 - dense_2_acc_22: 1.0000 - dense_2_acc_23: 1.0000 - dense_2_acc_24: 1.0000 - dense_2_acc_25: 1.0000 - dense_2_acc_26: 1.0000 - dense_2_acc_27: 1.0000 - dense_2_acc_28: 1.0000 - dense_2_acc_29: 1.0000\n",
      "Epoch 57/100\n",
      "200/200 [==============================] - 0s 2ms/step - loss: 9.2681 - dense_2_loss: 1.1197e-05 - dense_2_acc: 0.3700 - dense_2_acc_1: 0.3400 - dense_2_acc_2: 0.4100 - dense_2_acc_3: 0.5350 - dense_2_acc_4: 0.6600 - dense_2_acc_5: 0.8100 - dense_2_acc_6: 0.9050 - dense_2_acc_7: 0.9800 - dense_2_acc_8: 0.9950 - dense_2_acc_9: 0.9950 - dense_2_acc_10: 1.0000 - dense_2_acc_11: 0.9950 - dense_2_acc_12: 1.0000 - dense_2_acc_13: 1.0000 - dense_2_acc_14: 1.0000 - dense_2_acc_15: 1.0000 - dense_2_acc_16: 1.0000 - dense_2_acc_17: 1.0000 - dense_2_acc_18: 1.0000 - dense_2_acc_19: 1.0000 - dense_2_acc_20: 1.0000 - dense_2_acc_21: 1.0000 - dense_2_acc_22: 1.0000 - dense_2_acc_23: 1.0000 - dense_2_acc_24: 1.0000 - dense_2_acc_25: 1.0000 - dense_2_acc_26: 1.0000 - dense_2_acc_27: 1.0000 - dense_2_acc_28: 1.0000 - dense_2_acc_29: 1.0000\n",
      "Epoch 58/100\n",
      "200/200 [==============================] - 0s 2ms/step - loss: 9.1310 - dense_2_loss: 9.8539e-06 - dense_2_acc: 0.3750 - dense_2_acc_1: 0.3450 - dense_2_acc_2: 0.4100 - dense_2_acc_3: 0.5700 - dense_2_acc_4: 0.6550 - dense_2_acc_5: 0.8550 - dense_2_acc_6: 0.9200 - dense_2_acc_7: 0.9850 - dense_2_acc_8: 0.9950 - dense_2_acc_9: 0.9900 - dense_2_acc_10: 0.9950 - dense_2_acc_11: 1.0000 - dense_2_acc_12: 1.0000 - dense_2_acc_13: 0.9950 - dense_2_acc_14: 1.0000 - dense_2_acc_15: 1.0000 - dense_2_acc_16: 1.0000 - dense_2_acc_17: 1.0000 - dense_2_acc_18: 1.0000 - dense_2_acc_19: 1.0000 - dense_2_acc_20: 1.0000 - dense_2_acc_21: 1.0000 - dense_2_acc_22: 1.0000 - dense_2_acc_23: 1.0000 - dense_2_acc_24: 1.0000 - dense_2_acc_25: 1.0000 - dense_2_acc_26: 1.0000 - dense_2_acc_27: 1.0000 - dense_2_acc_28: 1.0000 - dense_2_acc_29: 1.0000\n",
      "Epoch 59/100\n",
      "200/200 [==============================] - 0s 2ms/step - loss: 9.0480 - dense_2_loss: 8.9938e-06 - dense_2_acc: 0.3700 - dense_2_acc_1: 0.3350 - dense_2_acc_2: 0.4200 - dense_2_acc_3: 0.5650 - dense_2_acc_4: 0.6550 - dense_2_acc_5: 0.8200 - dense_2_acc_6: 0.9100 - dense_2_acc_7: 0.9800 - dense_2_acc_8: 0.9850 - dense_2_acc_9: 0.9950 - dense_2_acc_10: 1.0000 - dense_2_acc_11: 0.9950 - dense_2_acc_12: 1.0000 - dense_2_acc_13: 0.9950 - dense_2_acc_14: 1.0000 - dense_2_acc_15: 1.0000 - dense_2_acc_16: 1.0000 - dense_2_acc_17: 1.0000 - dense_2_acc_18: 1.0000 - dense_2_acc_19: 1.0000 - dense_2_acc_20: 1.0000 - dense_2_acc_21: 1.0000 - dense_2_acc_22: 1.0000 - dense_2_acc_23: 1.0000 - dense_2_acc_24: 1.0000 - dense_2_acc_25: 1.0000 - dense_2_acc_26: 1.0000 - dense_2_acc_27: 1.0000 - dense_2_acc_28: 1.0000 - dense_2_acc_29: 1.0000\n",
      "Epoch 60/100\n",
      "200/200 [==============================] - 0s 2ms/step - loss: 8.9472 - dense_2_loss: 8.5467e-06 - dense_2_acc: 0.3700 - dense_2_acc_1: 0.3400 - dense_2_acc_2: 0.4400 - dense_2_acc_3: 0.5750 - dense_2_acc_4: 0.6600 - dense_2_acc_5: 0.8450 - dense_2_acc_6: 0.9150 - dense_2_acc_7: 0.9750 - dense_2_acc_8: 0.9950 - dense_2_acc_9: 0.9950 - dense_2_acc_10: 1.0000 - dense_2_acc_11: 1.0000 - dense_2_acc_12: 1.0000 - dense_2_acc_13: 0.9950 - dense_2_acc_14: 1.0000 - dense_2_acc_15: 1.0000 - dense_2_acc_16: 1.0000 - dense_2_acc_17: 1.0000 - dense_2_acc_18: 1.0000 - dense_2_acc_19: 1.0000 - dense_2_acc_20: 1.0000 - dense_2_acc_21: 1.0000 - dense_2_acc_22: 1.0000 - dense_2_acc_23: 1.0000 - dense_2_acc_24: 1.0000 - dense_2_acc_25: 1.0000 - dense_2_acc_26: 1.0000 - dense_2_acc_27: 1.0000 - dense_2_acc_28: 1.0000 - dense_2_acc_29: 1.0000\n",
      "Epoch 61/100\n",
      "200/200 [==============================] - 0s 2ms/step - loss: 8.8522 - dense_2_loss: 8.7533e-06 - dense_2_acc: 0.3700 - dense_2_acc_1: 0.3500 - dense_2_acc_2: 0.4450 - dense_2_acc_3: 0.5900 - dense_2_acc_4: 0.6900 - dense_2_acc_5: 0.8400 - dense_2_acc_6: 0.9250 - dense_2_acc_7: 0.9900 - dense_2_acc_8: 0.9900 - dense_2_acc_9: 1.0000 - dense_2_acc_10: 1.0000 - dense_2_acc_11: 1.0000 - dense_2_acc_12: 1.0000 - dense_2_acc_13: 0.9950 - dense_2_acc_14: 1.0000 - dense_2_acc_15: 1.0000 - dense_2_acc_16: 1.0000 - dense_2_acc_17: 1.0000 - dense_2_acc_18: 1.0000 - dense_2_acc_19: 1.0000 - dense_2_acc_20: 1.0000 - dense_2_acc_21: 1.0000 - dense_2_acc_22: 1.0000 - dense_2_acc_23: 1.0000 - dense_2_acc_24: 1.0000 - dense_2_acc_25: 1.0000 - dense_2_acc_26: 1.0000 - dense_2_acc_27: 1.0000 - dense_2_acc_28: 1.0000 - dense_2_acc_29: 1.0000\n",
      "Epoch 62/100\n",
      "200/200 [==============================] - 0s 2ms/step - loss: 8.7800 - dense_2_loss: 8.4734e-06 - dense_2_acc: 0.3700 - dense_2_acc_1: 0.3500 - dense_2_acc_2: 0.4600 - dense_2_acc_3: 0.5900 - dense_2_acc_4: 0.6750 - dense_2_acc_5: 0.8500 - dense_2_acc_6: 0.9300 - dense_2_acc_7: 0.9850 - dense_2_acc_8: 0.9950 - dense_2_acc_9: 0.9950 - dense_2_acc_10: 1.0000 - dense_2_acc_11: 1.0000 - dense_2_acc_12: 1.0000 - dense_2_acc_13: 0.9950 - dense_2_acc_14: 1.0000 - dense_2_acc_15: 1.0000 - dense_2_acc_16: 1.0000 - dense_2_acc_17: 1.0000 - dense_2_acc_18: 1.0000 - dense_2_acc_19: 1.0000 - dense_2_acc_20: 1.0000 - dense_2_acc_21: 1.0000 - dense_2_acc_22: 1.0000 - dense_2_acc_23: 1.0000 - dense_2_acc_24: 1.0000 - dense_2_acc_25: 1.0000 - dense_2_acc_26: 1.0000 - dense_2_acc_27: 1.0000 - dense_2_acc_28: 1.0000 - dense_2_acc_29: 1.0000\n",
      "Epoch 63/100\n",
      "200/200 [==============================] - 0s 2ms/step - loss: 8.6978 - dense_2_loss: 8.1069e-06 - dense_2_acc: 0.3700 - dense_2_acc_1: 0.3550 - dense_2_acc_2: 0.4500 - dense_2_acc_3: 0.6050 - dense_2_acc_4: 0.6650 - dense_2_acc_5: 0.8350 - dense_2_acc_6: 0.9300 - dense_2_acc_7: 0.9800 - dense_2_acc_8: 1.0000 - dense_2_acc_9: 0.9950 - dense_2_acc_10: 0.9950 - dense_2_acc_11: 0.9950 - dense_2_acc_12: 1.0000 - dense_2_acc_13: 0.9950 - dense_2_acc_14: 1.0000 - dense_2_acc_15: 1.0000 - dense_2_acc_16: 1.0000 - dense_2_acc_17: 1.0000 - dense_2_acc_18: 1.0000 - dense_2_acc_19: 1.0000 - dense_2_acc_20: 1.0000 - dense_2_acc_21: 1.0000 - dense_2_acc_22: 1.0000 - dense_2_acc_23: 1.0000 - dense_2_acc_24: 1.0000 - dense_2_acc_25: 1.0000 - dense_2_acc_26: 1.0000 - dense_2_acc_27: 1.0000 - dense_2_acc_28: 1.0000 - dense_2_acc_29: 1.0000\n",
      "Epoch 64/100\n"
     ]
    },
    {
     "name": "stdout",
     "output_type": "stream",
     "text": [
      "200/200 [==============================] - 0s 2ms/step - loss: 8.5707 - dense_2_loss: 8.2866e-06 - dense_2_acc: 0.3650 - dense_2_acc_1: 0.3400 - dense_2_acc_2: 0.4750 - dense_2_acc_3: 0.6000 - dense_2_acc_4: 0.6650 - dense_2_acc_5: 0.8700 - dense_2_acc_6: 0.9450 - dense_2_acc_7: 0.9850 - dense_2_acc_8: 0.9950 - dense_2_acc_9: 0.9950 - dense_2_acc_10: 1.0000 - dense_2_acc_11: 1.0000 - dense_2_acc_12: 1.0000 - dense_2_acc_13: 1.0000 - dense_2_acc_14: 1.0000 - dense_2_acc_15: 1.0000 - dense_2_acc_16: 1.0000 - dense_2_acc_17: 1.0000 - dense_2_acc_18: 1.0000 - dense_2_acc_19: 1.0000 - dense_2_acc_20: 1.0000 - dense_2_acc_21: 1.0000 - dense_2_acc_22: 1.0000 - dense_2_acc_23: 1.0000 - dense_2_acc_24: 1.0000 - dense_2_acc_25: 1.0000 - dense_2_acc_26: 1.0000 - dense_2_acc_27: 1.0000 - dense_2_acc_28: 1.0000 - dense_2_acc_29: 1.0000\n",
      "Epoch 65/100\n",
      "200/200 [==============================] - 0s 2ms/step - loss: 8.4881 - dense_2_loss: 7.5651e-06 - dense_2_acc: 0.3650 - dense_2_acc_1: 0.3550 - dense_2_acc_2: 0.4600 - dense_2_acc_3: 0.6150 - dense_2_acc_4: 0.7000 - dense_2_acc_5: 0.8450 - dense_2_acc_6: 0.9250 - dense_2_acc_7: 0.9850 - dense_2_acc_8: 0.9950 - dense_2_acc_9: 1.0000 - dense_2_acc_10: 1.0000 - dense_2_acc_11: 1.0000 - dense_2_acc_12: 1.0000 - dense_2_acc_13: 0.9950 - dense_2_acc_14: 1.0000 - dense_2_acc_15: 1.0000 - dense_2_acc_16: 1.0000 - dense_2_acc_17: 1.0000 - dense_2_acc_18: 1.0000 - dense_2_acc_19: 1.0000 - dense_2_acc_20: 1.0000 - dense_2_acc_21: 1.0000 - dense_2_acc_22: 1.0000 - dense_2_acc_23: 1.0000 - dense_2_acc_24: 1.0000 - dense_2_acc_25: 1.0000 - dense_2_acc_26: 1.0000 - dense_2_acc_27: 1.0000 - dense_2_acc_28: 1.0000 - dense_2_acc_29: 1.0000\n",
      "Epoch 66/100\n",
      "200/200 [==============================] - 0s 2ms/step - loss: 8.3845 - dense_2_loss: 7.8521e-06 - dense_2_acc: 0.3700 - dense_2_acc_1: 0.3550 - dense_2_acc_2: 0.4750 - dense_2_acc_3: 0.6100 - dense_2_acc_4: 0.7150 - dense_2_acc_5: 0.8500 - dense_2_acc_6: 0.9400 - dense_2_acc_7: 0.9800 - dense_2_acc_8: 0.9950 - dense_2_acc_9: 1.0000 - dense_2_acc_10: 1.0000 - dense_2_acc_11: 1.0000 - dense_2_acc_12: 1.0000 - dense_2_acc_13: 0.9950 - dense_2_acc_14: 1.0000 - dense_2_acc_15: 1.0000 - dense_2_acc_16: 1.0000 - dense_2_acc_17: 1.0000 - dense_2_acc_18: 1.0000 - dense_2_acc_19: 1.0000 - dense_2_acc_20: 1.0000 - dense_2_acc_21: 1.0000 - dense_2_acc_22: 1.0000 - dense_2_acc_23: 1.0000 - dense_2_acc_24: 1.0000 - dense_2_acc_25: 1.0000 - dense_2_acc_26: 1.0000 - dense_2_acc_27: 1.0000 - dense_2_acc_28: 1.0000 - dense_2_acc_29: 1.0000\n",
      "Epoch 67/100\n",
      "200/200 [==============================] - 0s 2ms/step - loss: 8.2763 - dense_2_loss: 7.8431e-06 - dense_2_acc: 0.3700 - dense_2_acc_1: 0.3550 - dense_2_acc_2: 0.4750 - dense_2_acc_3: 0.6500 - dense_2_acc_4: 0.7150 - dense_2_acc_5: 0.9050 - dense_2_acc_6: 0.9450 - dense_2_acc_7: 0.9900 - dense_2_acc_8: 0.9900 - dense_2_acc_9: 1.0000 - dense_2_acc_10: 1.0000 - dense_2_acc_11: 1.0000 - dense_2_acc_12: 1.0000 - dense_2_acc_13: 1.0000 - dense_2_acc_14: 1.0000 - dense_2_acc_15: 1.0000 - dense_2_acc_16: 1.0000 - dense_2_acc_17: 1.0000 - dense_2_acc_18: 1.0000 - dense_2_acc_19: 1.0000 - dense_2_acc_20: 1.0000 - dense_2_acc_21: 1.0000 - dense_2_acc_22: 1.0000 - dense_2_acc_23: 1.0000 - dense_2_acc_24: 1.0000 - dense_2_acc_25: 1.0000 - dense_2_acc_26: 1.0000 - dense_2_acc_27: 1.0000 - dense_2_acc_28: 1.0000 - dense_2_acc_29: 1.0000\n",
      "Epoch 68/100\n",
      "200/200 [==============================] - 0s 2ms/step - loss: 8.2240 - dense_2_loss: 6.5509e-06 - dense_2_acc: 0.3700 - dense_2_acc_1: 0.3450 - dense_2_acc_2: 0.4700 - dense_2_acc_3: 0.6550 - dense_2_acc_4: 0.7400 - dense_2_acc_5: 0.8600 - dense_2_acc_6: 0.9450 - dense_2_acc_7: 0.9850 - dense_2_acc_8: 1.0000 - dense_2_acc_9: 0.9950 - dense_2_acc_10: 0.9950 - dense_2_acc_11: 1.0000 - dense_2_acc_12: 1.0000 - dense_2_acc_13: 0.9950 - dense_2_acc_14: 1.0000 - dense_2_acc_15: 1.0000 - dense_2_acc_16: 1.0000 - dense_2_acc_17: 1.0000 - dense_2_acc_18: 1.0000 - dense_2_acc_19: 1.0000 - dense_2_acc_20: 1.0000 - dense_2_acc_21: 1.0000 - dense_2_acc_22: 1.0000 - dense_2_acc_23: 1.0000 - dense_2_acc_24: 1.0000 - dense_2_acc_25: 1.0000 - dense_2_acc_26: 1.0000 - dense_2_acc_27: 1.0000 - dense_2_acc_28: 1.0000 - dense_2_acc_29: 1.0000\n",
      "Epoch 69/100\n",
      "200/200 [==============================] - 0s 2ms/step - loss: 8.0934 - dense_2_loss: 6.9630e-06 - dense_2_acc: 0.3700 - dense_2_acc_1: 0.3500 - dense_2_acc_2: 0.4850 - dense_2_acc_3: 0.6400 - dense_2_acc_4: 0.7500 - dense_2_acc_5: 0.8950 - dense_2_acc_6: 0.9500 - dense_2_acc_7: 0.9950 - dense_2_acc_8: 1.0000 - dense_2_acc_9: 0.9900 - dense_2_acc_10: 0.9950 - dense_2_acc_11: 1.0000 - dense_2_acc_12: 1.0000 - dense_2_acc_13: 1.0000 - dense_2_acc_14: 1.0000 - dense_2_acc_15: 1.0000 - dense_2_acc_16: 1.0000 - dense_2_acc_17: 1.0000 - dense_2_acc_18: 1.0000 - dense_2_acc_19: 1.0000 - dense_2_acc_20: 1.0000 - dense_2_acc_21: 1.0000 - dense_2_acc_22: 1.0000 - dense_2_acc_23: 1.0000 - dense_2_acc_24: 1.0000 - dense_2_acc_25: 1.0000 - dense_2_acc_26: 1.0000 - dense_2_acc_27: 1.0000 - dense_2_acc_28: 1.0000 - dense_2_acc_29: 1.0000\n",
      "Epoch 70/100\n",
      "200/200 [==============================] - 0s 2ms/step - loss: 7.9869 - dense_2_loss: 7.4578e-06 - dense_2_acc: 0.3700 - dense_2_acc_1: 0.3450 - dense_2_acc_2: 0.4950 - dense_2_acc_3: 0.6500 - dense_2_acc_4: 0.7550 - dense_2_acc_5: 0.9100 - dense_2_acc_6: 0.9450 - dense_2_acc_7: 0.9850 - dense_2_acc_8: 1.0000 - dense_2_acc_9: 1.0000 - dense_2_acc_10: 1.0000 - dense_2_acc_11: 1.0000 - dense_2_acc_12: 1.0000 - dense_2_acc_13: 1.0000 - dense_2_acc_14: 1.0000 - dense_2_acc_15: 1.0000 - dense_2_acc_16: 1.0000 - dense_2_acc_17: 1.0000 - dense_2_acc_18: 1.0000 - dense_2_acc_19: 1.0000 - dense_2_acc_20: 1.0000 - dense_2_acc_21: 1.0000 - dense_2_acc_22: 1.0000 - dense_2_acc_23: 1.0000 - dense_2_acc_24: 1.0000 - dense_2_acc_25: 1.0000 - dense_2_acc_26: 1.0000 - dense_2_acc_27: 1.0000 - dense_2_acc_28: 1.0000 - dense_2_acc_29: 1.0000\n",
      "Epoch 71/100\n",
      "200/200 [==============================] - 0s 2ms/step - loss: 7.9199 - dense_2_loss: 8.5611e-06 - dense_2_acc: 0.3700 - dense_2_acc_1: 0.3550 - dense_2_acc_2: 0.5000 - dense_2_acc_3: 0.6650 - dense_2_acc_4: 0.7600 - dense_2_acc_5: 0.9100 - dense_2_acc_6: 0.9650 - dense_2_acc_7: 0.9850 - dense_2_acc_8: 1.0000 - dense_2_acc_9: 1.0000 - dense_2_acc_10: 1.0000 - dense_2_acc_11: 1.0000 - dense_2_acc_12: 1.0000 - dense_2_acc_13: 1.0000 - dense_2_acc_14: 1.0000 - dense_2_acc_15: 1.0000 - dense_2_acc_16: 1.0000 - dense_2_acc_17: 1.0000 - dense_2_acc_18: 1.0000 - dense_2_acc_19: 1.0000 - dense_2_acc_20: 1.0000 - dense_2_acc_21: 1.0000 - dense_2_acc_22: 1.0000 - dense_2_acc_23: 1.0000 - dense_2_acc_24: 1.0000 - dense_2_acc_25: 1.0000 - dense_2_acc_26: 1.0000 - dense_2_acc_27: 1.0000 - dense_2_acc_28: 1.0000 - dense_2_acc_29: 1.0000\n",
      "Epoch 72/100\n",
      "200/200 [==============================] - 0s 2ms/step - loss: 7.8273 - dense_2_loss: 7.8586e-06 - dense_2_acc: 0.3650 - dense_2_acc_1: 0.3450 - dense_2_acc_2: 0.5000 - dense_2_acc_3: 0.6600 - dense_2_acc_4: 0.7750 - dense_2_acc_5: 0.9350 - dense_2_acc_6: 0.9550 - dense_2_acc_7: 0.9850 - dense_2_acc_8: 1.0000 - dense_2_acc_9: 1.0000 - dense_2_acc_10: 1.0000 - dense_2_acc_11: 1.0000 - dense_2_acc_12: 1.0000 - dense_2_acc_13: 1.0000 - dense_2_acc_14: 1.0000 - dense_2_acc_15: 1.0000 - dense_2_acc_16: 1.0000 - dense_2_acc_17: 1.0000 - dense_2_acc_18: 1.0000 - dense_2_acc_19: 1.0000 - dense_2_acc_20: 1.0000 - dense_2_acc_21: 1.0000 - dense_2_acc_22: 1.0000 - dense_2_acc_23: 1.0000 - dense_2_acc_24: 1.0000 - dense_2_acc_25: 1.0000 - dense_2_acc_26: 1.0000 - dense_2_acc_27: 1.0000 - dense_2_acc_28: 1.0000 - dense_2_acc_29: 1.0000\n",
      "Epoch 73/100\n"
     ]
    },
    {
     "name": "stdout",
     "output_type": "stream",
     "text": [
      "200/200 [==============================] - 0s 2ms/step - loss: 7.7359 - dense_2_loss: 7.2098e-06 - dense_2_acc: 0.3650 - dense_2_acc_1: 0.3450 - dense_2_acc_2: 0.5050 - dense_2_acc_3: 0.6750 - dense_2_acc_4: 0.7750 - dense_2_acc_5: 0.9400 - dense_2_acc_6: 0.9550 - dense_2_acc_7: 0.9850 - dense_2_acc_8: 1.0000 - dense_2_acc_9: 1.0000 - dense_2_acc_10: 1.0000 - dense_2_acc_11: 1.0000 - dense_2_acc_12: 1.0000 - dense_2_acc_13: 1.0000 - dense_2_acc_14: 1.0000 - dense_2_acc_15: 1.0000 - dense_2_acc_16: 1.0000 - dense_2_acc_17: 1.0000 - dense_2_acc_18: 1.0000 - dense_2_acc_19: 1.0000 - dense_2_acc_20: 1.0000 - dense_2_acc_21: 1.0000 - dense_2_acc_22: 1.0000 - dense_2_acc_23: 1.0000 - dense_2_acc_24: 1.0000 - dense_2_acc_25: 1.0000 - dense_2_acc_26: 1.0000 - dense_2_acc_27: 1.0000 - dense_2_acc_28: 1.0000 - dense_2_acc_29: 1.0000\n",
      "Epoch 74/100\n",
      "200/200 [==============================] - 0s 2ms/step - loss: 7.6892 - dense_2_loss: 6.3783e-06 - dense_2_acc: 0.3700 - dense_2_acc_1: 0.3400 - dense_2_acc_2: 0.5200 - dense_2_acc_3: 0.6700 - dense_2_acc_4: 0.8000 - dense_2_acc_5: 0.9250 - dense_2_acc_6: 0.9600 - dense_2_acc_7: 0.9950 - dense_2_acc_8: 1.0000 - dense_2_acc_9: 1.0000 - dense_2_acc_10: 1.0000 - dense_2_acc_11: 1.0000 - dense_2_acc_12: 1.0000 - dense_2_acc_13: 1.0000 - dense_2_acc_14: 1.0000 - dense_2_acc_15: 1.0000 - dense_2_acc_16: 1.0000 - dense_2_acc_17: 1.0000 - dense_2_acc_18: 1.0000 - dense_2_acc_19: 1.0000 - dense_2_acc_20: 1.0000 - dense_2_acc_21: 1.0000 - dense_2_acc_22: 1.0000 - dense_2_acc_23: 1.0000 - dense_2_acc_24: 1.0000 - dense_2_acc_25: 1.0000 - dense_2_acc_26: 1.0000 - dense_2_acc_27: 1.0000 - dense_2_acc_28: 1.0000 - dense_2_acc_29: 1.0000\n",
      "Epoch 75/100\n",
      "200/200 [==============================] - 0s 2ms/step - loss: 7.6256 - dense_2_loss: 6.1596e-06 - dense_2_acc: 0.3650 - dense_2_acc_1: 0.3500 - dense_2_acc_2: 0.5050 - dense_2_acc_3: 0.6650 - dense_2_acc_4: 0.7800 - dense_2_acc_5: 0.9200 - dense_2_acc_6: 0.9600 - dense_2_acc_7: 0.9900 - dense_2_acc_8: 1.0000 - dense_2_acc_9: 1.0000 - dense_2_acc_10: 1.0000 - dense_2_acc_11: 1.0000 - dense_2_acc_12: 1.0000 - dense_2_acc_13: 1.0000 - dense_2_acc_14: 1.0000 - dense_2_acc_15: 1.0000 - dense_2_acc_16: 1.0000 - dense_2_acc_17: 1.0000 - dense_2_acc_18: 1.0000 - dense_2_acc_19: 1.0000 - dense_2_acc_20: 1.0000 - dense_2_acc_21: 1.0000 - dense_2_acc_22: 1.0000 - dense_2_acc_23: 1.0000 - dense_2_acc_24: 1.0000 - dense_2_acc_25: 1.0000 - dense_2_acc_26: 1.0000 - dense_2_acc_27: 1.0000 - dense_2_acc_28: 1.0000 - dense_2_acc_29: 1.0000\n",
      "Epoch 76/100\n",
      "200/200 [==============================] - 0s 2ms/step - loss: 7.5167 - dense_2_loss: 6.9046e-06 - dense_2_acc: 0.3600 - dense_2_acc_1: 0.3550 - dense_2_acc_2: 0.5150 - dense_2_acc_3: 0.6900 - dense_2_acc_4: 0.8100 - dense_2_acc_5: 0.9300 - dense_2_acc_6: 0.9750 - dense_2_acc_7: 0.9900 - dense_2_acc_8: 1.0000 - dense_2_acc_9: 1.0000 - dense_2_acc_10: 1.0000 - dense_2_acc_11: 1.0000 - dense_2_acc_12: 1.0000 - dense_2_acc_13: 1.0000 - dense_2_acc_14: 1.0000 - dense_2_acc_15: 1.0000 - dense_2_acc_16: 1.0000 - dense_2_acc_17: 1.0000 - dense_2_acc_18: 1.0000 - dense_2_acc_19: 1.0000 - dense_2_acc_20: 1.0000 - dense_2_acc_21: 1.0000 - dense_2_acc_22: 1.0000 - dense_2_acc_23: 1.0000 - dense_2_acc_24: 1.0000 - dense_2_acc_25: 1.0000 - dense_2_acc_26: 1.0000 - dense_2_acc_27: 1.0000 - dense_2_acc_28: 1.0000 - dense_2_acc_29: 1.0000\n",
      "Epoch 77/100\n",
      "200/200 [==============================] - 0s 2ms/step - loss: 7.4973 - dense_2_loss: 6.7473e-06 - dense_2_acc: 0.3700 - dense_2_acc_1: 0.3600 - dense_2_acc_2: 0.5050 - dense_2_acc_3: 0.6900 - dense_2_acc_4: 0.8050 - dense_2_acc_5: 0.9150 - dense_2_acc_6: 0.9600 - dense_2_acc_7: 0.9950 - dense_2_acc_8: 1.0000 - dense_2_acc_9: 0.9950 - dense_2_acc_10: 1.0000 - dense_2_acc_11: 1.0000 - dense_2_acc_12: 1.0000 - dense_2_acc_13: 0.9950 - dense_2_acc_14: 1.0000 - dense_2_acc_15: 1.0000 - dense_2_acc_16: 1.0000 - dense_2_acc_17: 1.0000 - dense_2_acc_18: 1.0000 - dense_2_acc_19: 1.0000 - dense_2_acc_20: 1.0000 - dense_2_acc_21: 1.0000 - dense_2_acc_22: 1.0000 - dense_2_acc_23: 1.0000 - dense_2_acc_24: 1.0000 - dense_2_acc_25: 1.0000 - dense_2_acc_26: 1.0000 - dense_2_acc_27: 1.0000 - dense_2_acc_28: 1.0000 - dense_2_acc_29: 1.0000\n",
      "Epoch 78/100\n",
      "200/200 [==============================] - 0s 2ms/step - loss: 7.4302 - dense_2_loss: 7.4503e-06 - dense_2_acc: 0.3650 - dense_2_acc_1: 0.3700 - dense_2_acc_2: 0.5250 - dense_2_acc_3: 0.6900 - dense_2_acc_4: 0.8350 - dense_2_acc_5: 0.9350 - dense_2_acc_6: 0.9750 - dense_2_acc_7: 0.9850 - dense_2_acc_8: 0.9950 - dense_2_acc_9: 1.0000 - dense_2_acc_10: 1.0000 - dense_2_acc_11: 1.0000 - dense_2_acc_12: 1.0000 - dense_2_acc_13: 1.0000 - dense_2_acc_14: 1.0000 - dense_2_acc_15: 1.0000 - dense_2_acc_16: 1.0000 - dense_2_acc_17: 1.0000 - dense_2_acc_18: 1.0000 - dense_2_acc_19: 1.0000 - dense_2_acc_20: 1.0000 - dense_2_acc_21: 1.0000 - dense_2_acc_22: 1.0000 - dense_2_acc_23: 1.0000 - dense_2_acc_24: 1.0000 - dense_2_acc_25: 1.0000 - dense_2_acc_26: 1.0000 - dense_2_acc_27: 1.0000 - dense_2_acc_28: 1.0000 - dense_2_acc_29: 1.0000\n",
      "Epoch 79/100\n",
      "200/200 [==============================] - 0s 2ms/step - loss: 7.3602 - dense_2_loss: 6.3795e-06 - dense_2_acc: 0.3700 - dense_2_acc_1: 0.3600 - dense_2_acc_2: 0.5400 - dense_2_acc_3: 0.7000 - dense_2_acc_4: 0.8200 - dense_2_acc_5: 0.9350 - dense_2_acc_6: 0.9500 - dense_2_acc_7: 0.9950 - dense_2_acc_8: 0.9950 - dense_2_acc_9: 1.0000 - dense_2_acc_10: 1.0000 - dense_2_acc_11: 1.0000 - dense_2_acc_12: 1.0000 - dense_2_acc_13: 1.0000 - dense_2_acc_14: 1.0000 - dense_2_acc_15: 1.0000 - dense_2_acc_16: 1.0000 - dense_2_acc_17: 1.0000 - dense_2_acc_18: 1.0000 - dense_2_acc_19: 1.0000 - dense_2_acc_20: 1.0000 - dense_2_acc_21: 1.0000 - dense_2_acc_22: 1.0000 - dense_2_acc_23: 1.0000 - dense_2_acc_24: 1.0000 - dense_2_acc_25: 1.0000 - dense_2_acc_26: 1.0000 - dense_2_acc_27: 1.0000 - dense_2_acc_28: 1.0000 - dense_2_acc_29: 1.0000\n",
      "Epoch 80/100\n",
      "200/200 [==============================] - 0s 2ms/step - loss: 7.2957 - dense_2_loss: 6.8650e-06 - dense_2_acc: 0.3700 - dense_2_acc_1: 0.3650 - dense_2_acc_2: 0.5350 - dense_2_acc_3: 0.7050 - dense_2_acc_4: 0.8400 - dense_2_acc_5: 0.9400 - dense_2_acc_6: 0.9550 - dense_2_acc_7: 0.9900 - dense_2_acc_8: 1.0000 - dense_2_acc_9: 1.0000 - dense_2_acc_10: 1.0000 - dense_2_acc_11: 1.0000 - dense_2_acc_12: 1.0000 - dense_2_acc_13: 1.0000 - dense_2_acc_14: 1.0000 - dense_2_acc_15: 1.0000 - dense_2_acc_16: 1.0000 - dense_2_acc_17: 1.0000 - dense_2_acc_18: 1.0000 - dense_2_acc_19: 1.0000 - dense_2_acc_20: 1.0000 - dense_2_acc_21: 1.0000 - dense_2_acc_22: 1.0000 - dense_2_acc_23: 1.0000 - dense_2_acc_24: 1.0000 - dense_2_acc_25: 1.0000 - dense_2_acc_26: 1.0000 - dense_2_acc_27: 1.0000 - dense_2_acc_28: 1.0000 - dense_2_acc_29: 1.0000\n",
      "Epoch 81/100\n",
      "200/200 [==============================] - 0s 2ms/step - loss: 7.2074 - dense_2_loss: 7.3210e-06 - dense_2_acc: 0.3700 - dense_2_acc_1: 0.3700 - dense_2_acc_2: 0.5350 - dense_2_acc_3: 0.7000 - dense_2_acc_4: 0.8550 - dense_2_acc_5: 0.9250 - dense_2_acc_6: 0.9750 - dense_2_acc_7: 0.9900 - dense_2_acc_8: 0.9950 - dense_2_acc_9: 1.0000 - dense_2_acc_10: 1.0000 - dense_2_acc_11: 1.0000 - dense_2_acc_12: 1.0000 - dense_2_acc_13: 1.0000 - dense_2_acc_14: 1.0000 - dense_2_acc_15: 1.0000 - dense_2_acc_16: 1.0000 - dense_2_acc_17: 1.0000 - dense_2_acc_18: 1.0000 - dense_2_acc_19: 1.0000 - dense_2_acc_20: 1.0000 - dense_2_acc_21: 1.0000 - dense_2_acc_22: 1.0000 - dense_2_acc_23: 1.0000 - dense_2_acc_24: 1.0000 - dense_2_acc_25: 1.0000 - dense_2_acc_26: 1.0000 - dense_2_acc_27: 1.0000 - dense_2_acc_28: 1.0000 - dense_2_acc_29: 1.0000\n",
      "Epoch 82/100\n"
     ]
    },
    {
     "name": "stdout",
     "output_type": "stream",
     "text": [
      "200/200 [==============================] - 0s 2ms/step - loss: 7.1300 - dense_2_loss: 6.7693e-06 - dense_2_acc: 0.3700 - dense_2_acc_1: 0.3600 - dense_2_acc_2: 0.5350 - dense_2_acc_3: 0.7050 - dense_2_acc_4: 0.8600 - dense_2_acc_5: 0.9400 - dense_2_acc_6: 0.9700 - dense_2_acc_7: 0.9950 - dense_2_acc_8: 1.0000 - dense_2_acc_9: 1.0000 - dense_2_acc_10: 1.0000 - dense_2_acc_11: 1.0000 - dense_2_acc_12: 1.0000 - dense_2_acc_13: 1.0000 - dense_2_acc_14: 1.0000 - dense_2_acc_15: 1.0000 - dense_2_acc_16: 1.0000 - dense_2_acc_17: 1.0000 - dense_2_acc_18: 1.0000 - dense_2_acc_19: 1.0000 - dense_2_acc_20: 1.0000 - dense_2_acc_21: 1.0000 - dense_2_acc_22: 1.0000 - dense_2_acc_23: 1.0000 - dense_2_acc_24: 1.0000 - dense_2_acc_25: 1.0000 - dense_2_acc_26: 1.0000 - dense_2_acc_27: 1.0000 - dense_2_acc_28: 1.0000 - dense_2_acc_29: 1.0000\n",
      "Epoch 83/100\n",
      "200/200 [==============================] - 0s 2ms/step - loss: 7.0761 - dense_2_loss: 7.0897e-06 - dense_2_acc: 0.3700 - dense_2_acc_1: 0.3700 - dense_2_acc_2: 0.5500 - dense_2_acc_3: 0.7200 - dense_2_acc_4: 0.8650 - dense_2_acc_5: 0.9600 - dense_2_acc_6: 0.9700 - dense_2_acc_7: 0.9950 - dense_2_acc_8: 1.0000 - dense_2_acc_9: 1.0000 - dense_2_acc_10: 1.0000 - dense_2_acc_11: 1.0000 - dense_2_acc_12: 1.0000 - dense_2_acc_13: 1.0000 - dense_2_acc_14: 1.0000 - dense_2_acc_15: 1.0000 - dense_2_acc_16: 1.0000 - dense_2_acc_17: 1.0000 - dense_2_acc_18: 1.0000 - dense_2_acc_19: 1.0000 - dense_2_acc_20: 1.0000 - dense_2_acc_21: 1.0000 - dense_2_acc_22: 1.0000 - dense_2_acc_23: 1.0000 - dense_2_acc_24: 1.0000 - dense_2_acc_25: 1.0000 - dense_2_acc_26: 1.0000 - dense_2_acc_27: 1.0000 - dense_2_acc_28: 1.0000 - dense_2_acc_29: 1.0000\n",
      "Epoch 84/100\n",
      "200/200 [==============================] - 0s 2ms/step - loss: 6.9991 - dense_2_loss: 7.6935e-06 - dense_2_acc: 0.3700 - dense_2_acc_1: 0.3800 - dense_2_acc_2: 0.5450 - dense_2_acc_3: 0.7150 - dense_2_acc_4: 0.8800 - dense_2_acc_5: 0.9700 - dense_2_acc_6: 0.9850 - dense_2_acc_7: 1.0000 - dense_2_acc_8: 1.0000 - dense_2_acc_9: 1.0000 - dense_2_acc_10: 1.0000 - dense_2_acc_11: 1.0000 - dense_2_acc_12: 1.0000 - dense_2_acc_13: 1.0000 - dense_2_acc_14: 1.0000 - dense_2_acc_15: 1.0000 - dense_2_acc_16: 1.0000 - dense_2_acc_17: 1.0000 - dense_2_acc_18: 1.0000 - dense_2_acc_19: 1.0000 - dense_2_acc_20: 1.0000 - dense_2_acc_21: 1.0000 - dense_2_acc_22: 1.0000 - dense_2_acc_23: 1.0000 - dense_2_acc_24: 1.0000 - dense_2_acc_25: 1.0000 - dense_2_acc_26: 1.0000 - dense_2_acc_27: 1.0000 - dense_2_acc_28: 1.0000 - dense_2_acc_29: 1.0000\n",
      "Epoch 85/100\n",
      "200/200 [==============================] - 0s 2ms/step - loss: 6.9518 - dense_2_loss: 8.9923e-06 - dense_2_acc: 0.3700 - dense_2_acc_1: 0.3700 - dense_2_acc_2: 0.5600 - dense_2_acc_3: 0.7400 - dense_2_acc_4: 0.8750 - dense_2_acc_5: 0.9650 - dense_2_acc_6: 0.9850 - dense_2_acc_7: 0.9950 - dense_2_acc_8: 1.0000 - dense_2_acc_9: 1.0000 - dense_2_acc_10: 1.0000 - dense_2_acc_11: 1.0000 - dense_2_acc_12: 1.0000 - dense_2_acc_13: 1.0000 - dense_2_acc_14: 1.0000 - dense_2_acc_15: 1.0000 - dense_2_acc_16: 1.0000 - dense_2_acc_17: 1.0000 - dense_2_acc_18: 1.0000 - dense_2_acc_19: 1.0000 - dense_2_acc_20: 1.0000 - dense_2_acc_21: 1.0000 - dense_2_acc_22: 1.0000 - dense_2_acc_23: 1.0000 - dense_2_acc_24: 1.0000 - dense_2_acc_25: 1.0000 - dense_2_acc_26: 1.0000 - dense_2_acc_27: 1.0000 - dense_2_acc_28: 1.0000 - dense_2_acc_29: 1.0000\n",
      "Epoch 86/100\n",
      "200/200 [==============================] - 0s 2ms/step - loss: 6.8615 - dense_2_loss: 8.6463e-06 - dense_2_acc: 0.3700 - dense_2_acc_1: 0.3650 - dense_2_acc_2: 0.5350 - dense_2_acc_3: 0.7450 - dense_2_acc_4: 0.8850 - dense_2_acc_5: 0.9800 - dense_2_acc_6: 0.9850 - dense_2_acc_7: 1.0000 - dense_2_acc_8: 1.0000 - dense_2_acc_9: 1.0000 - dense_2_acc_10: 1.0000 - dense_2_acc_11: 1.0000 - dense_2_acc_12: 1.0000 - dense_2_acc_13: 1.0000 - dense_2_acc_14: 1.0000 - dense_2_acc_15: 1.0000 - dense_2_acc_16: 1.0000 - dense_2_acc_17: 1.0000 - dense_2_acc_18: 1.0000 - dense_2_acc_19: 1.0000 - dense_2_acc_20: 1.0000 - dense_2_acc_21: 1.0000 - dense_2_acc_22: 1.0000 - dense_2_acc_23: 1.0000 - dense_2_acc_24: 1.0000 - dense_2_acc_25: 1.0000 - dense_2_acc_26: 1.0000 - dense_2_acc_27: 1.0000 - dense_2_acc_28: 1.0000 - dense_2_acc_29: 1.0000\n",
      "Epoch 87/100\n",
      "200/200 [==============================] - 0s 2ms/step - loss: 6.8222 - dense_2_loss: 8.0914e-06 - dense_2_acc: 0.3700 - dense_2_acc_1: 0.3600 - dense_2_acc_2: 0.5600 - dense_2_acc_3: 0.7350 - dense_2_acc_4: 0.8900 - dense_2_acc_5: 0.9700 - dense_2_acc_6: 0.9750 - dense_2_acc_7: 1.0000 - dense_2_acc_8: 1.0000 - dense_2_acc_9: 1.0000 - dense_2_acc_10: 1.0000 - dense_2_acc_11: 1.0000 - dense_2_acc_12: 1.0000 - dense_2_acc_13: 1.0000 - dense_2_acc_14: 1.0000 - dense_2_acc_15: 1.0000 - dense_2_acc_16: 1.0000 - dense_2_acc_17: 1.0000 - dense_2_acc_18: 1.0000 - dense_2_acc_19: 1.0000 - dense_2_acc_20: 1.0000 - dense_2_acc_21: 1.0000 - dense_2_acc_22: 1.0000 - dense_2_acc_23: 1.0000 - dense_2_acc_24: 1.0000 - dense_2_acc_25: 1.0000 - dense_2_acc_26: 1.0000 - dense_2_acc_27: 1.0000 - dense_2_acc_28: 1.0000 - dense_2_acc_29: 1.0000\n",
      "Epoch 88/100\n",
      "200/200 [==============================] - 0s 2ms/step - loss: 6.7427 - dense_2_loss: 7.3514e-06 - dense_2_acc: 0.3700 - dense_2_acc_1: 0.3750 - dense_2_acc_2: 0.5600 - dense_2_acc_3: 0.7400 - dense_2_acc_4: 0.9050 - dense_2_acc_5: 0.9700 - dense_2_acc_6: 0.9800 - dense_2_acc_7: 1.0000 - dense_2_acc_8: 1.0000 - dense_2_acc_9: 1.0000 - dense_2_acc_10: 1.0000 - dense_2_acc_11: 1.0000 - dense_2_acc_12: 1.0000 - dense_2_acc_13: 1.0000 - dense_2_acc_14: 1.0000 - dense_2_acc_15: 1.0000 - dense_2_acc_16: 1.0000 - dense_2_acc_17: 1.0000 - dense_2_acc_18: 1.0000 - dense_2_acc_19: 1.0000 - dense_2_acc_20: 1.0000 - dense_2_acc_21: 1.0000 - dense_2_acc_22: 1.0000 - dense_2_acc_23: 1.0000 - dense_2_acc_24: 1.0000 - dense_2_acc_25: 1.0000 - dense_2_acc_26: 1.0000 - dense_2_acc_27: 1.0000 - dense_2_acc_28: 1.0000 - dense_2_acc_29: 1.0000\n",
      "Epoch 89/100\n",
      "200/200 [==============================] - 0s 2ms/step - loss: 6.7182 - dense_2_loss: 6.8718e-06 - dense_2_acc: 0.3700 - dense_2_acc_1: 0.3650 - dense_2_acc_2: 0.5550 - dense_2_acc_3: 0.7450 - dense_2_acc_4: 0.8950 - dense_2_acc_5: 0.9700 - dense_2_acc_6: 0.9850 - dense_2_acc_7: 1.0000 - dense_2_acc_8: 1.0000 - dense_2_acc_9: 1.0000 - dense_2_acc_10: 1.0000 - dense_2_acc_11: 1.0000 - dense_2_acc_12: 1.0000 - dense_2_acc_13: 0.9950 - dense_2_acc_14: 1.0000 - dense_2_acc_15: 1.0000 - dense_2_acc_16: 1.0000 - dense_2_acc_17: 1.0000 - dense_2_acc_18: 1.0000 - dense_2_acc_19: 1.0000 - dense_2_acc_20: 1.0000 - dense_2_acc_21: 1.0000 - dense_2_acc_22: 1.0000 - dense_2_acc_23: 1.0000 - dense_2_acc_24: 1.0000 - dense_2_acc_25: 1.0000 - dense_2_acc_26: 1.0000 - dense_2_acc_27: 1.0000 - dense_2_acc_28: 1.0000 - dense_2_acc_29: 1.0000\n",
      "Epoch 90/100\n",
      "200/200 [==============================] - 0s 2ms/step - loss: 6.6519 - dense_2_loss: 6.5360e-06 - dense_2_acc: 0.3700 - dense_2_acc_1: 0.3700 - dense_2_acc_2: 0.5650 - dense_2_acc_3: 0.7600 - dense_2_acc_4: 0.9050 - dense_2_acc_5: 0.9750 - dense_2_acc_6: 0.9850 - dense_2_acc_7: 1.0000 - dense_2_acc_8: 1.0000 - dense_2_acc_9: 1.0000 - dense_2_acc_10: 1.0000 - dense_2_acc_11: 1.0000 - dense_2_acc_12: 1.0000 - dense_2_acc_13: 0.9950 - dense_2_acc_14: 1.0000 - dense_2_acc_15: 1.0000 - dense_2_acc_16: 1.0000 - dense_2_acc_17: 1.0000 - dense_2_acc_18: 1.0000 - dense_2_acc_19: 1.0000 - dense_2_acc_20: 1.0000 - dense_2_acc_21: 1.0000 - dense_2_acc_22: 1.0000 - dense_2_acc_23: 1.0000 - dense_2_acc_24: 1.0000 - dense_2_acc_25: 1.0000 - dense_2_acc_26: 1.0000 - dense_2_acc_27: 1.0000 - dense_2_acc_28: 1.0000 - dense_2_acc_29: 1.0000\n",
      "Epoch 91/100\n"
     ]
    },
    {
     "name": "stdout",
     "output_type": "stream",
     "text": [
      "200/200 [==============================] - 0s 2ms/step - loss: 6.5937 - dense_2_loss: 6.5324e-06 - dense_2_acc: 0.3700 - dense_2_acc_1: 0.3700 - dense_2_acc_2: 0.5750 - dense_2_acc_3: 0.7750 - dense_2_acc_4: 0.9100 - dense_2_acc_5: 0.9750 - dense_2_acc_6: 0.9950 - dense_2_acc_7: 1.0000 - dense_2_acc_8: 1.0000 - dense_2_acc_9: 1.0000 - dense_2_acc_10: 1.0000 - dense_2_acc_11: 1.0000 - dense_2_acc_12: 1.0000 - dense_2_acc_13: 1.0000 - dense_2_acc_14: 1.0000 - dense_2_acc_15: 1.0000 - dense_2_acc_16: 1.0000 - dense_2_acc_17: 1.0000 - dense_2_acc_18: 1.0000 - dense_2_acc_19: 1.0000 - dense_2_acc_20: 1.0000 - dense_2_acc_21: 1.0000 - dense_2_acc_22: 1.0000 - dense_2_acc_23: 1.0000 - dense_2_acc_24: 1.0000 - dense_2_acc_25: 1.0000 - dense_2_acc_26: 1.0000 - dense_2_acc_27: 1.0000 - dense_2_acc_28: 1.0000 - dense_2_acc_29: 1.0000\n",
      "Epoch 92/100\n",
      "200/200 [==============================] - 0s 2ms/step - loss: 6.5364 - dense_2_loss: 6.3527e-06 - dense_2_acc: 0.3700 - dense_2_acc_1: 0.3750 - dense_2_acc_2: 0.5750 - dense_2_acc_3: 0.7850 - dense_2_acc_4: 0.9200 - dense_2_acc_5: 0.9900 - dense_2_acc_6: 0.9950 - dense_2_acc_7: 1.0000 - dense_2_acc_8: 1.0000 - dense_2_acc_9: 1.0000 - dense_2_acc_10: 1.0000 - dense_2_acc_11: 1.0000 - dense_2_acc_12: 1.0000 - dense_2_acc_13: 1.0000 - dense_2_acc_14: 1.0000 - dense_2_acc_15: 1.0000 - dense_2_acc_16: 1.0000 - dense_2_acc_17: 1.0000 - dense_2_acc_18: 1.0000 - dense_2_acc_19: 1.0000 - dense_2_acc_20: 1.0000 - dense_2_acc_21: 1.0000 - dense_2_acc_22: 1.0000 - dense_2_acc_23: 1.0000 - dense_2_acc_24: 1.0000 - dense_2_acc_25: 1.0000 - dense_2_acc_26: 1.0000 - dense_2_acc_27: 1.0000 - dense_2_acc_28: 1.0000 - dense_2_acc_29: 1.0000\n",
      "Epoch 93/100\n",
      "200/200 [==============================] - 0s 2ms/step - loss: 6.4930 - dense_2_loss: 5.9200e-06 - dense_2_acc: 0.3700 - dense_2_acc_1: 0.3800 - dense_2_acc_2: 0.5900 - dense_2_acc_3: 0.7800 - dense_2_acc_4: 0.9250 - dense_2_acc_5: 0.9700 - dense_2_acc_6: 0.9850 - dense_2_acc_7: 0.9950 - dense_2_acc_8: 1.0000 - dense_2_acc_9: 1.0000 - dense_2_acc_10: 1.0000 - dense_2_acc_11: 1.0000 - dense_2_acc_12: 1.0000 - dense_2_acc_13: 1.0000 - dense_2_acc_14: 1.0000 - dense_2_acc_15: 1.0000 - dense_2_acc_16: 1.0000 - dense_2_acc_17: 1.0000 - dense_2_acc_18: 1.0000 - dense_2_acc_19: 1.0000 - dense_2_acc_20: 1.0000 - dense_2_acc_21: 1.0000 - dense_2_acc_22: 1.0000 - dense_2_acc_23: 1.0000 - dense_2_acc_24: 1.0000 - dense_2_acc_25: 1.0000 - dense_2_acc_26: 1.0000 - dense_2_acc_27: 1.0000 - dense_2_acc_28: 1.0000 - dense_2_acc_29: 1.0000\n",
      "Epoch 94/100\n",
      "200/200 [==============================] - 0s 2ms/step - loss: 6.4203 - dense_2_loss: 5.9709e-06 - dense_2_acc: 0.3700 - dense_2_acc_1: 0.3800 - dense_2_acc_2: 0.5850 - dense_2_acc_3: 0.7850 - dense_2_acc_4: 0.9350 - dense_2_acc_5: 0.9850 - dense_2_acc_6: 0.9950 - dense_2_acc_7: 1.0000 - dense_2_acc_8: 1.0000 - dense_2_acc_9: 1.0000 - dense_2_acc_10: 1.0000 - dense_2_acc_11: 1.0000 - dense_2_acc_12: 1.0000 - dense_2_acc_13: 1.0000 - dense_2_acc_14: 1.0000 - dense_2_acc_15: 1.0000 - dense_2_acc_16: 1.0000 - dense_2_acc_17: 1.0000 - dense_2_acc_18: 1.0000 - dense_2_acc_19: 1.0000 - dense_2_acc_20: 1.0000 - dense_2_acc_21: 1.0000 - dense_2_acc_22: 1.0000 - dense_2_acc_23: 1.0000 - dense_2_acc_24: 1.0000 - dense_2_acc_25: 1.0000 - dense_2_acc_26: 1.0000 - dense_2_acc_27: 1.0000 - dense_2_acc_28: 1.0000 - dense_2_acc_29: 1.0000\n",
      "Epoch 95/100\n",
      "200/200 [==============================] - 0s 2ms/step - loss: 6.3972 - dense_2_loss: 5.7504e-06 - dense_2_acc: 0.3700 - dense_2_acc_1: 0.3800 - dense_2_acc_2: 0.5950 - dense_2_acc_3: 0.7950 - dense_2_acc_4: 0.9250 - dense_2_acc_5: 0.9650 - dense_2_acc_6: 0.9800 - dense_2_acc_7: 1.0000 - dense_2_acc_8: 1.0000 - dense_2_acc_9: 1.0000 - dense_2_acc_10: 1.0000 - dense_2_acc_11: 1.0000 - dense_2_acc_12: 1.0000 - dense_2_acc_13: 1.0000 - dense_2_acc_14: 1.0000 - dense_2_acc_15: 1.0000 - dense_2_acc_16: 1.0000 - dense_2_acc_17: 1.0000 - dense_2_acc_18: 1.0000 - dense_2_acc_19: 1.0000 - dense_2_acc_20: 1.0000 - dense_2_acc_21: 1.0000 - dense_2_acc_22: 1.0000 - dense_2_acc_23: 1.0000 - dense_2_acc_24: 1.0000 - dense_2_acc_25: 1.0000 - dense_2_acc_26: 1.0000 - dense_2_acc_27: 1.0000 - dense_2_acc_28: 1.0000 - dense_2_acc_29: 1.0000\n",
      "Epoch 96/100\n",
      "200/200 [==============================] - 0s 2ms/step - loss: 6.3336 - dense_2_loss: 5.8821e-06 - dense_2_acc: 0.3700 - dense_2_acc_1: 0.3800 - dense_2_acc_2: 0.6000 - dense_2_acc_3: 0.7950 - dense_2_acc_4: 0.9350 - dense_2_acc_5: 0.9750 - dense_2_acc_6: 0.9950 - dense_2_acc_7: 1.0000 - dense_2_acc_8: 1.0000 - dense_2_acc_9: 1.0000 - dense_2_acc_10: 1.0000 - dense_2_acc_11: 1.0000 - dense_2_acc_12: 1.0000 - dense_2_acc_13: 1.0000 - dense_2_acc_14: 1.0000 - dense_2_acc_15: 1.0000 - dense_2_acc_16: 1.0000 - dense_2_acc_17: 1.0000 - dense_2_acc_18: 1.0000 - dense_2_acc_19: 1.0000 - dense_2_acc_20: 1.0000 - dense_2_acc_21: 1.0000 - dense_2_acc_22: 1.0000 - dense_2_acc_23: 1.0000 - dense_2_acc_24: 1.0000 - dense_2_acc_25: 1.0000 - dense_2_acc_26: 1.0000 - dense_2_acc_27: 1.0000 - dense_2_acc_28: 1.0000 - dense_2_acc_29: 1.0000\n",
      "Epoch 97/100\n",
      "200/200 [==============================] - 0s 2ms/step - loss: 6.2929 - dense_2_loss: 5.5883e-06 - dense_2_acc: 0.3700 - dense_2_acc_1: 0.3850 - dense_2_acc_2: 0.5800 - dense_2_acc_3: 0.7900 - dense_2_acc_4: 0.9350 - dense_2_acc_5: 0.9850 - dense_2_acc_6: 0.9900 - dense_2_acc_7: 1.0000 - dense_2_acc_8: 1.0000 - dense_2_acc_9: 1.0000 - dense_2_acc_10: 1.0000 - dense_2_acc_11: 1.0000 - dense_2_acc_12: 1.0000 - dense_2_acc_13: 1.0000 - dense_2_acc_14: 1.0000 - dense_2_acc_15: 1.0000 - dense_2_acc_16: 1.0000 - dense_2_acc_17: 1.0000 - dense_2_acc_18: 1.0000 - dense_2_acc_19: 1.0000 - dense_2_acc_20: 1.0000 - dense_2_acc_21: 1.0000 - dense_2_acc_22: 1.0000 - dense_2_acc_23: 1.0000 - dense_2_acc_24: 1.0000 - dense_2_acc_25: 1.0000 - dense_2_acc_26: 1.0000 - dense_2_acc_27: 1.0000 - dense_2_acc_28: 1.0000 - dense_2_acc_29: 1.0000\n",
      "Epoch 98/100\n",
      "200/200 [==============================] - 0s 2ms/step - loss: 6.2442 - dense_2_loss: 5.3492e-06 - dense_2_acc: 0.3700 - dense_2_acc_1: 0.3850 - dense_2_acc_2: 0.5850 - dense_2_acc_3: 0.8000 - dense_2_acc_4: 0.9450 - dense_2_acc_5: 0.9900 - dense_2_acc_6: 0.9950 - dense_2_acc_7: 1.0000 - dense_2_acc_8: 1.0000 - dense_2_acc_9: 1.0000 - dense_2_acc_10: 1.0000 - dense_2_acc_11: 1.0000 - dense_2_acc_12: 1.0000 - dense_2_acc_13: 1.0000 - dense_2_acc_14: 1.0000 - dense_2_acc_15: 1.0000 - dense_2_acc_16: 1.0000 - dense_2_acc_17: 1.0000 - dense_2_acc_18: 1.0000 - dense_2_acc_19: 1.0000 - dense_2_acc_20: 1.0000 - dense_2_acc_21: 1.0000 - dense_2_acc_22: 1.0000 - dense_2_acc_23: 1.0000 - dense_2_acc_24: 1.0000 - dense_2_acc_25: 1.0000 - dense_2_acc_26: 1.0000 - dense_2_acc_27: 1.0000 - dense_2_acc_28: 1.0000 - dense_2_acc_29: 1.0000\n",
      "Epoch 99/100\n",
      "200/200 [==============================] - 0s 2ms/step - loss: 6.1970 - dense_2_loss: 5.7548e-06 - dense_2_acc: 0.3800 - dense_2_acc_1: 0.3850 - dense_2_acc_2: 0.6000 - dense_2_acc_3: 0.8050 - dense_2_acc_4: 0.9500 - dense_2_acc_5: 0.9950 - dense_2_acc_6: 1.0000 - dense_2_acc_7: 1.0000 - dense_2_acc_8: 1.0000 - dense_2_acc_9: 1.0000 - dense_2_acc_10: 1.0000 - dense_2_acc_11: 1.0000 - dense_2_acc_12: 1.0000 - dense_2_acc_13: 1.0000 - dense_2_acc_14: 1.0000 - dense_2_acc_15: 1.0000 - dense_2_acc_16: 1.0000 - dense_2_acc_17: 1.0000 - dense_2_acc_18: 1.0000 - dense_2_acc_19: 1.0000 - dense_2_acc_20: 1.0000 - dense_2_acc_21: 1.0000 - dense_2_acc_22: 1.0000 - dense_2_acc_23: 1.0000 - dense_2_acc_24: 1.0000 - dense_2_acc_25: 1.0000 - dense_2_acc_26: 1.0000 - dense_2_acc_27: 1.0000 - dense_2_acc_28: 1.0000 - dense_2_acc_29: 1.0000\n",
      "Epoch 100/100\n"
     ]
    },
    {
     "name": "stdout",
     "output_type": "stream",
     "text": [
      "200/200 [==============================] - 0s 2ms/step - loss: 6.1601 - dense_2_loss: 5.7784e-06 - dense_2_acc: 0.3800 - dense_2_acc_1: 0.3850 - dense_2_acc_2: 0.6100 - dense_2_acc_3: 0.8150 - dense_2_acc_4: 0.9400 - dense_2_acc_5: 0.9900 - dense_2_acc_6: 1.0000 - dense_2_acc_7: 1.0000 - dense_2_acc_8: 1.0000 - dense_2_acc_9: 1.0000 - dense_2_acc_10: 1.0000 - dense_2_acc_11: 1.0000 - dense_2_acc_12: 1.0000 - dense_2_acc_13: 1.0000 - dense_2_acc_14: 1.0000 - dense_2_acc_15: 1.0000 - dense_2_acc_16: 1.0000 - dense_2_acc_17: 1.0000 - dense_2_acc_18: 1.0000 - dense_2_acc_19: 1.0000 - dense_2_acc_20: 1.0000 - dense_2_acc_21: 1.0000 - dense_2_acc_22: 1.0000 - dense_2_acc_23: 1.0000 - dense_2_acc_24: 1.0000 - dense_2_acc_25: 1.0000 - dense_2_acc_26: 1.0000 - dense_2_acc_27: 1.0000 - dense_2_acc_28: 1.0000 - dense_2_acc_29: 1.0000\n"
     ]
    },
    {
     "data": {
      "text/plain": [
       "<keras.callbacks.History at 0x7fd819267668>"
      ]
     },
     "execution_count": 81,
     "metadata": {},
     "output_type": "execute_result"
    }
   ],
   "source": [
    "a0 = np.zeros((X.shape[0], n_a))\n",
    "c0 = np.zeros((X.shape[0], n_a))\n",
    "model.fit([X, a0, c0], list(Y), epochs=100)"
   ]
  },
  {
   "cell_type": "code",
   "execution_count": 83,
   "metadata": {},
   "outputs": [],
   "source": [
    "x_initializer = np.zeros((1, 1, char_size))\n",
    "a_initializer = np.zeros((1, n_a))\n",
    "c_initializer = np.zeros((1, n_a))"
   ]
  },
  {
   "cell_type": "code",
   "execution_count": 84,
   "metadata": {},
   "outputs": [],
   "source": [
    "def generate_model(char_size, n_a, Ty):\n",
    "    x0 = Input(shape=(1, char_size))\n",
    "    a0 = Input(shape=(n_a,), name='a0')\n",
    "    c0 = Input(shape=(n_a,), name='c0')\n",
    "    a = a0\n",
    "    c = c0\n",
    "    x = x0\n",
    "    outputs = []\n",
    "    for t in range(Ty):\n",
    "        a, _, c = LSTM_cell(x, initial_state = [a,c])\n",
    "        out = densor(a)\n",
    "        outputs.append(out)\n",
    "    inference_model = Model([x0, a0, c0], outputs)\n",
    "    return inference_model\n"
   ]
  },
  {
   "cell_type": "code",
   "execution_count": 95,
   "metadata": {},
   "outputs": [],
   "source": [
    "inference_model = generate_model(char_size, n_a = n_a, Ty = 30)"
   ]
  },
  {
   "cell_type": "code",
   "execution_count": 98,
   "metadata": {},
   "outputs": [
    {
     "name": "stdout",
     "output_type": "stream",
     "text": [
      "ii\n",
      "\n",
      "\n",
      "\n",
      "\n",
      "\n",
      "\n",
      "\n",
      "\n",
      "\n",
      "\n",
      "\n",
      "\n",
      "\n",
      "\n",
      "\n",
      "\n",
      "\n",
      "\n",
      "\n",
      "\n",
      "\n",
      "\n",
      "\n",
      "\n",
      "\n",
      "\n",
      "\n"
     ]
    }
   ],
   "source": [
    "x_initializer = np.random.randn(1, 1, char_size)\n",
    "a_initializer = np.random.randn(1, n_a)\n",
    "c_initializer = np.random.randn(1, n_a)\n",
    "pred = inference_model.predict([x_initializer, a_initializer, c_initializer])\n",
    "for item in pred:\n",
    "    onehot = item[0]\n",
    "    id = np.argmax(onehot)\n",
    "    print(ix_to_char[id], end=\"\")"
   ]
  },
  {
   "cell_type": "code",
   "execution_count": null,
   "metadata": {},
   "outputs": [],
   "source": []
  },
  {
   "cell_type": "code",
   "execution_count": null,
   "metadata": {},
   "outputs": [],
   "source": []
  }
 ],
 "metadata": {
  "kernelspec": {
   "display_name": "Python 3",
   "language": "python",
   "name": "python3"
  },
  "language_info": {
   "codemirror_mode": {
    "name": "ipython",
    "version": 3
   },
   "file_extension": ".py",
   "mimetype": "text/x-python",
   "name": "python",
   "nbconvert_exporter": "python",
   "pygments_lexer": "ipython3",
   "version": "3.6.5"
  }
 },
 "nbformat": 4,
 "nbformat_minor": 2
}
